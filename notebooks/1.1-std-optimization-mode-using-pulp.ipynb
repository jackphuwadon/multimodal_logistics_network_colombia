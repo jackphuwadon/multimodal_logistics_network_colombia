{
  "nbformat": 4,
  "nbformat_minor": 0,
  "metadata": {
    "colab": {
      "provenance": []
    },
    "kernelspec": {
      "name": "python3",
      "display_name": "Python 3"
    },
    "language_info": {
      "name": "python"
    }
  },
  "cells": [
    {
      "cell_type": "markdown",
      "source": [
        "## Importación de librerías"
      ],
      "metadata": {
        "id": "zqjfTqJFOvFv"
      }
    },
    {
      "cell_type": "code",
      "execution_count": 1,
      "metadata": {
        "colab": {
          "base_uri": "https://localhost:8080/"
        },
        "id": "bExrZ29ZOtem",
        "outputId": "9d1b8b7e-986c-4963-9fef-8bcab6b96822"
      },
      "outputs": [
        {
          "output_type": "stream",
          "name": "stdout",
          "text": [
            "Looking in indexes: https://pypi.org/simple, https://us-python.pkg.dev/colab-wheels/public/simple/\n",
            "Collecting pulp\n",
            "  Downloading PuLP-2.7.0-py3-none-any.whl (14.3 MB)\n",
            "\u001b[2K     \u001b[90m━━━━━━━━━━━━━━━━━━━━━━━━━━━━━━━━━━━━━━━━\u001b[0m \u001b[32m14.3/14.3 MB\u001b[0m \u001b[31m73.7 MB/s\u001b[0m eta \u001b[36m0:00:00\u001b[0m\n",
            "\u001b[?25hInstalling collected packages: pulp\n",
            "Successfully installed pulp-2.7.0\n"
          ]
        }
      ],
      "source": [
        "!pip install pulp"
      ]
    },
    {
      "cell_type": "code",
      "source": [
        "# Tratamiento de datos\n",
        "# ==============================================================================\n",
        "import pandas as pd\n",
        "import numpy as np\n",
        "\n",
        "# Gráficos\n",
        "# ==============================================================================\n",
        "import matplotlib.pyplot as plt\n",
        "from matplotlib import style\n",
        "import seaborn as sns\n",
        "\n",
        "# Liberías de optimización\n",
        "# ==============================================================================\n",
        "from pulp import *\n",
        "\n",
        "# Configuración warnings\n",
        "# ==============================================================================\n",
        "import warnings\n",
        "warnings.filterwarnings('ignore')"
      ],
      "metadata": {
        "id": "FjYPJ5jIO3qV"
      },
      "execution_count": 2,
      "outputs": []
    },
    {
      "cell_type": "markdown",
      "source": [
        "Importación de datos"
      ],
      "metadata": {
        "id": "O3ekhkLiO7OJ"
      }
    },
    {
      "cell_type": "code",
      "source": [
        "from google.colab import files \n",
        "files.upload()"
      ],
      "metadata": {
        "id": "TFCbwyc-O7kl"
      },
      "execution_count": null,
      "outputs": []
    },
    {
      "cell_type": "code",
      "source": [
        "# DEMANDA\n",
        "demanda = pd.read_excel('/content/Prueba_Data.xlsx', sheet_name='DEMANDA_1', index_col=0)\n",
        "#demanda['DEMANDA'] = demanda['DEMANDA'].astype('int32')\n",
        "\n",
        "# COSTOS FIJOS CTL\n",
        "CTL = pd.read_excel('Prueba_Data.xlsx', sheet_name='CTL')\n",
        "CTL = CTL[['CTL', 'COSTO_FIJO']]\n",
        "\n",
        "# COSTOS DE TRANSPORTE\n",
        "costos = pd.read_excel('/content/Prueba_Data.xlsx', sheet_name='COSTOS')"
      ],
      "metadata": {
        "id": "eL-imy8PPBXB"
      },
      "execution_count": 11,
      "outputs": []
    },
    {
      "cell_type": "code",
      "source": [
        "# COSTOS DEL ORIGEN AL PUERTO\n",
        "costos_puertos = costos[costos.Tipo1.isin([\"ORIGEN\"]) & costos.Tipo2.isin([\"PUERTO\"])]\n",
        "costos_puertos = costos_puertos[['Nodo1_cod', 'Nodo2_cod', 'C_TOTAL']]\n",
        "costos_puertos.rename(columns={'Nodo1_cod':'ORIGEN', 'Nodo2_cod':'PUERTO'}, inplace=True)\n",
        "#display(costos_puertos)\n",
        "\n",
        "\n",
        "# COSTOS DEL PUERTO AL PUNTO DE TRASBORDO\n",
        "costos_ptm = costos[costos.Tipo1.isin([\"PUERTO\"]) & costos.Tipo2.isin([\"TRASBORDO\"])]\n",
        "costos_ptm = costos_ptm[['Nodo1_cod', 'Nodo2_cod', 'Modo', 'C_TOTAL']]\n",
        "costos_ptm.rename(columns={'Nodo1_cod':'PUERTO', 'Nodo2_cod':'TRASBORDO', 'Modo':'MODO'}, inplace=True)\n",
        "costos_ptm.reset_index(inplace=True, drop=True)\n",
        "costos_ptm['C_TOTAL'] = costos_ptm['C_TOTAL'].astype('int32')\n",
        "#display(costos_ptm)\n",
        "\n",
        "\n",
        "# COSTOS DEL PUNTO DE TRASBORDO AL DESTINO\n",
        "\n",
        "costos_tj = costos[costos.Tipo1.isin([\"TRASBORDO\"]) & costos.Tipo2.isin([\"DESTINO\"])]\n",
        "costos_tj = costos_tj[['Nodo1_cod', 'Nodo2_cod', 'C_TOTAL']]\n",
        "costos_tj.rename(columns={'Nodo1_cod':'TRASBORDO', 'Nodo2_cod':'DESTINO'}, inplace=True)\n",
        "costos_tj.reset_index(inplace=True, drop=True)\n",
        "#costos_tj"
      ],
      "metadata": {
        "id": "jwpUmEXKPJoJ"
      },
      "execution_count": 12,
      "outputs": []
    },
    {
      "cell_type": "markdown",
      "source": [
        "Definición de conjuntos y parámetros"
      ],
      "metadata": {
        "id": "fWSOP6mTQYyA"
      }
    },
    {
      "cell_type": "code",
      "source": [
        "# DEFINICIÓN DE CONJUNTOS\n",
        "\n",
        "origenes = [\"MEX\", \"PAN\", \"USA\", \"DEU\", \"ESP\", \"BRA\"]  # Nodos de origen\n",
        "destinos = [\"MED\", \"MNZ\", \"PER\", \"IBG\", \"NEV\", \"BOG\", \"BUG\"]  # Nodos de destino\n",
        "puertos = [\"CTG\", \"BAQ\", \"STM\"]  # Nodos puertos\n",
        "trasbordos = [\"PLT\", \"PTB\", \"DOR\", \"BCJ\", \"GRA\"]  # Nodos puntos de trasbordo\n",
        "modos = [\"CARRETERO\", \"FLUVIAL\", \"FERREO\"] # Modos de transporte"
      ],
      "metadata": {
        "id": "fHqKm5eoPURx"
      },
      "execution_count": 13,
      "outputs": []
    },
    {
      "cell_type": "code",
      "source": [
        "# DEFINICIÓN DE PARÁMETROS\n",
        "\n",
        "capacidad_puerto = {\"CTG\": 10000000,\"BAQ\": 10000000,\"STM\": 10000000}\n",
        "\n",
        "capacidad_trasbordo = {\"PLT\": 10000000, \n",
        "                       \"PTB\": 10000000, \n",
        "                       \"DOR\": 10000000, \n",
        "                       \"BCJ\": 10000000, \n",
        "                       \"GRA\": 10000000}\n",
        "\n",
        "demanda = demanda.transpose().unstack()\n",
        "\n",
        "costo_origen_puerto = {\n",
        "    (costos_puertos.ORIGEN[i],costos_puertos.PUERTO[i]): int(costos_puertos.C_TOTAL[i])\n",
        "    for i in range(len(costos_puertos))\n",
        "}\n",
        "\n",
        "costo_puerto_trasbordo = {\n",
        "    (costos_ptm.PUERTO[i], costos_ptm.TRASBORDO[i], costos_ptm.MODO[i]): int(costos_ptm.C_TOTAL[i])\n",
        "    for i in range(len(costos_ptm))\n",
        "}\n",
        "\n",
        "costo_trasbordo_destino = {\n",
        "    (costos_tj.TRASBORDO[i],costos_tj.DESTINO[i]): int(costos_tj.C_TOTAL[i])\n",
        "    for i in range(len(costos_tj))\n",
        "}\n",
        "\n",
        "costo_fijo_trasbordo = {\n",
        "    CTL.CTL[i]: int(CTL.COSTO_FIJO[i])\n",
        "    for i in range(len(CTL))\n",
        "}"
      ],
      "metadata": {
        "id": "s9c64FkCPbho"
      },
      "execution_count": 37,
      "outputs": []
    },
    {
      "cell_type": "code",
      "source": [
        "#Demanda en formato dict\n",
        "\n",
        "origenes = demanda.ORIGEN.unique()\n",
        "destinos = demanda.DESTINO.unique()\n",
        "DEMANDA_DICT = dict()\n",
        "type_dict = 'records'\n",
        "\n",
        "for origen in origenes:\n",
        "  DEMANDA_DICT[origen] = {}\n",
        "  for destino in destinos:\n",
        "    valor = demanda[demanda.ORIGEN.isin([origen]) & demanda.DESTINO.isin([destino])]\n",
        "    valor.reset_index(inplace=True, drop=True)\n",
        "    DEMANDA_DICT[origen][destino] = valor.loc[0, 'DEMANDA']\n",
        "\n",
        "print(DEMANDA_DICT)"
      ],
      "metadata": {
        "id": "Rv7D4cYfaOqI"
      },
      "execution_count": null,
      "outputs": []
    },
    {
      "cell_type": "code",
      "source": [
        "# Diccionario de trasbordos\n",
        "\n",
        "trasbordos = CTL.CTL.unique()\n",
        "CTL_DICT = dict()\n",
        "\n",
        "for trasbordo in trasbordos:\n",
        "  valor = CTL[CTL.CTL.isin([trasbordo])]\n",
        "  valor.reset_index(inplace=True, drop=True)\n",
        "  CTL_DICT[trasbordo] = valor.loc[0, 'COSTO_FIJO']\n",
        "\n",
        "print(CTL_DICT)"
      ],
      "metadata": {
        "id": "_VGyUBJKaXn6"
      },
      "execution_count": null,
      "outputs": []
    },
    {
      "cell_type": "markdown",
      "source": [
        "### Prueba 1"
      ],
      "metadata": {
        "id": "5mASY7GOQeSk"
      }
    },
    {
      "cell_type": "code",
      "source": [
        "# Datos del problema # Parameters\n",
        "origenes = ['O1', 'O2', 'O3']  # Nodos de origen\n",
        "destinos = ['D1', 'D2', 'D3']  # Nodos de destino\n",
        "puertos = ['P1', 'P2', 'P3']  # Nodos puertos\n",
        "trasbordos = ['T1', 'T2', 'T3']  # Nodos puntos de trasbordo\n",
        "modos = ['carretero', 'ferreo', 'fluvial']\n",
        "\n",
        "demanda = {'O1': {'D1': 10, 'D2': 15, 'D3': 20},\n",
        "           'O2': {'D1': 5, 'D2': 8, 'D3': 12},\n",
        "           'O3': {'D1': 7, 'D2': 10, 'D3': 15}}\n",
        "\n",
        "capacidad_puerto = {'P1': 50,'P2': 50,'P3': 50}\n",
        "\n",
        "capacidad_trasbordo = {'T1': 10000,'T2': 10000, 'T3': 10000}\n",
        "\n",
        "costo_origen_puerto = {'O1': {'P1': 10, 'P2': 15, 'P3': 12},\n",
        "                       'O2': {'P1': 8, 'P2': 11, 'P3': 9},\n",
        "                       'O3': {'P1': 12, 'P2': 10, 'P3': 14}}\n",
        "\n",
        "costo_puerto_trasbordo = {\n",
        "    'P1': {'T1': {'carretero': 6, 'ferreo': 7, 'fluvial': 8}, 'T2': {'carretero': 5, 'ferreo': 6, 'fluvial': 7},'T3': {'carretero': 5, 'ferreo': 6, 'fluvial': 7}},\n",
        "    'P2': {'T1': {'carretero': 8, 'ferreo': 9, 'fluvial': 10}, 'T2': {'carretero': 7, 'ferreo': 8, 'fluvial': 9}, 'T3': {'carretero': 5, 'ferreo': 6, 'fluvial': 7}},\n",
        "    'P3': {'T1': {'carretero': 9, 'ferreo': 10, 'fluvial': 11}, 'T2': {'carretero': 10, 'ferreo': 11, 'fluvial': 12}, 'T3': {'carretero': 5, 'ferreo': 6, 'fluvial': 7}}\n",
        "}\n",
        "\n",
        "\n",
        "costo_trasbordo_destino = {\n",
        "    'T1': {'D1': 9, 'D2': 12, 'D3': 11},\n",
        "    'T2': {'D1': 8, 'D2': 10, 'D3': 13},\n",
        "    'T3': {'D1': 5, 'D2': 13, 'D3': 10}\n",
        "}\n",
        "\n",
        "costo_fijo_trasbordo = {\n",
        "    'T1': 95,\n",
        "    'T2': 100,\n",
        "    'T3': 100\n",
        "}"
      ],
      "metadata": {
        "id": "FeK8uLSnZqiY"
      },
      "execution_count": 39,
      "outputs": []
    },
    {
      "cell_type": "code",
      "source": [
        "# Variables\n",
        "#x = {(i, j, p, t, m): 0 for i in origenes for j in destinos for p in puertos for t in trasbordos for m in modos}\n",
        "x = LpVariable.dicts('Flujo', (origenes, destinos, puertos, trasbordos, modos),0)\n",
        "\n",
        "#x = LpVariable.dicts('x', (origenes, destinos, puertos, trasbordos, modos), 0, None, LpContinuous)\n",
        "\n",
        "# Variable de decisión\n",
        "#y = LpVariable.dicts('y', (trasbordos), 0, 1, LpBinary)\n",
        "\n",
        "y = LpVariable.dicts('y', (trasbordos), lowBound = 0, upBound = 1, cat='Integer')\n",
        "\n",
        "# Model\n",
        "model = LpProblem(\"Localizacion de puntos de trasbordo\", LpMinimize)\n",
        "'''\n",
        "# Objective function\n",
        "model += lpSum(costo_origen_puerto[i][p]* x[i, j, p, t, m] + \n",
        "               costo_puerto_trasbordo[p][t][m]*x[i, j, p, t, m]  + \n",
        "               costo_trasbordo_destino[t][j]*x[i, j, p, t, m] + \n",
        "               costo_fijo_trasbordo[t]*y[t] for i in origenes for j in destinos for p in puertos for t in trasbordos for m in modos)\n",
        "\n",
        "model += lpSum(costo_origen_puerto[i][p]* x[i][j][p][t][m] + \n",
        "               costo_puerto_trasbordo[p][t][m]*x[i][j][p][t][m] + \n",
        "               costo_trasbordo_destino[t][j]*x[i][j][p][t][m] + \n",
        "               costo_fijo_trasbordo[t]*y[t] for i in origenes for j in destinos for p in puertos for t in trasbordos for m in modos)\n",
        "'''\n",
        "CT = lpSum(costo_origen_puerto[i][p]* x[i][j][p][t][m] + \n",
        "           costo_puerto_trasbordo[p][t][m]*x[i][j][p][t][m] + \n",
        "           costo_trasbordo_destino[t][j]*x[i][j][p][t][m] +\n",
        "           costo_fijo_trasbordo[t]*y[t] for i in origenes for j in destinos for p in puertos for t in trasbordos for m in modos)\n",
        "#CF = lpSum(costo_fijo_trasbordo[t]*y[t] for t in trasbordos)\n",
        "\n",
        "model += CT\n",
        "\n",
        "# Constraints\n",
        "'''\n",
        "# Restricciones de capacidad en los puertos\n",
        "for p in puertos:\n",
        "    model += lpSum(x[i, j, p, t, m] for i in origenes for j in destinos for t in trasbordos for m in modos) <= capacidad_puerto[p]\n",
        "\n",
        "# Restricciones de capacidad en los trasbordos\n",
        "for t in trasbordos:\n",
        "    model += lpSum(x[i, j, p, t, m] for i in origenes for j in destinos for p in puertos for m in modos) <= capacidad_trasbordo[t]\n",
        "\n",
        "# Restricciones de demanda satisfecha\n",
        "for i in origenes:\n",
        "    for j in destinos:\n",
        "        model += lpSum(x[i, j, p, t, m] for p in puertos for t in trasbordos for m in modos) == demanda[i][j]\n",
        "'''\n",
        "\n",
        "\n",
        "# Restricciones de capacidad en los puertos\n",
        "for p in puertos:\n",
        "    model += lpSum(x[i][j][p][t][m] for i in origenes for j in destinos for t in trasbordos for m in modos) <= capacidad_puerto[p]\n",
        "\n",
        "# Restricciones de capacidad en los trasbordos\n",
        "for t in trasbordos:\n",
        "    model += lpSum(x[i][j][p][t][m] for i in origenes for j in destinos for p in puertos for m in modos) <= capacidad_trasbordo[t]*y[t]\n",
        "\n",
        "# Restricciones de demanda satisfecha\n",
        "for i in origenes:\n",
        "    for j in destinos:\n",
        "        model += lpSum(x[i][j][p][t][m] for p in puertos for t in trasbordos for m in modos) == demanda[i][j]\n",
        "\n",
        "#for j in destinos:\n",
        "model += lpSum(y[t] for t in trasbordos) == 2 # Cantidad de puertos por seleccionar\n",
        "\n",
        "# Solve\n",
        "model.solve()"
      ],
      "metadata": {
        "colab": {
          "base_uri": "https://localhost:8080/"
        },
        "id": "P-1q6Nw5QjMt",
        "outputId": "155dec4b-37ca-4b1c-92cf-67468639820f"
      },
      "execution_count": 42,
      "outputs": [
        {
          "output_type": "execute_result",
          "data": {
            "text/plain": [
              "1"
            ]
          },
          "metadata": {},
          "execution_count": 42
        }
      ]
    },
    {
      "cell_type": "code",
      "source": [
        "valor = model.objective.value()\n",
        "print (valor)\n",
        "\n",
        "# Print results\n",
        "print(\"Costo total: \", value(model.objective))\n",
        "print(\"-------------------------------------------------\")\n",
        "for t in trasbordos:\n",
        "        print(\"Trasbordo: \", t, \" Costo fijo: \", costo_fijo_trasbordo[t], \" Seleccionado: \", y[t].value())\n",
        "print(\"-------------------------------------------------\")\n",
        "for i in origenes:\n",
        "    for j in destinos:\n",
        "        for p in puertos:\n",
        "            for t in trasbordos:\n",
        "                for m in modos:\n",
        "                  if x[i][j][p][t][m].value() > 0:\n",
        "                    print(\"Origen: \", i, \" Destino: \", j, \" Puerto: \", p, \" Trasbordo: \", t, \" Modo de transporte: \", m, \" Cantidad: \", x[i][j][p][t][m].value())\n"
      ],
      "metadata": {
        "colab": {
          "base_uri": "https://localhost:8080/"
        },
        "id": "SWvk9hrtZxoo",
        "outputId": "d415ef16-727b-44bf-c512-ce038a8c40bf"
      },
      "execution_count": 43,
      "outputs": [
        {
          "output_type": "stream",
          "name": "stdout",
          "text": [
            "18304.0\n",
            "Costo total:  18304.0\n",
            "-------------------------------------------------\n",
            "Trasbordo:  T1  Costo fijo:  95  Seleccionado:  1.0\n",
            "Trasbordo:  T2  Costo fijo:  100  Seleccionado:  0.0\n",
            "Trasbordo:  T3  Costo fijo:  100  Seleccionado:  1.0\n",
            "-------------------------------------------------\n",
            "Origen:  O1  Destino:  D1  Puerto:  P1  Trasbordo:  T3  Modo de transporte:  carretero  Cantidad:  10.0\n",
            "Origen:  O1  Destino:  D2  Puerto:  P1  Trasbordo:  T1  Modo de transporte:  carretero  Cantidad:  15.0\n",
            "Origen:  O1  Destino:  D3  Puerto:  P1  Trasbordo:  T3  Modo de transporte:  carretero  Cantidad:  20.0\n",
            "Origen:  O2  Destino:  D1  Puerto:  P3  Trasbordo:  T3  Modo de transporte:  carretero  Cantidad:  5.0\n",
            "Origen:  O2  Destino:  D2  Puerto:  P1  Trasbordo:  T1  Modo de transporte:  carretero  Cantidad:  5.0\n",
            "Origen:  O2  Destino:  D2  Puerto:  P3  Trasbordo:  T3  Modo de transporte:  carretero  Cantidad:  3.0\n",
            "Origen:  O2  Destino:  D3  Puerto:  P3  Trasbordo:  T3  Modo de transporte:  carretero  Cantidad:  12.0\n",
            "Origen:  O3  Destino:  D1  Puerto:  P2  Trasbordo:  T3  Modo de transporte:  carretero  Cantidad:  7.0\n",
            "Origen:  O3  Destino:  D2  Puerto:  P2  Trasbordo:  T3  Modo de transporte:  carretero  Cantidad:  10.0\n",
            "Origen:  O3  Destino:  D3  Puerto:  P2  Trasbordo:  T3  Modo de transporte:  carretero  Cantidad:  15.0\n"
          ]
        }
      ]
    }
  ]
}