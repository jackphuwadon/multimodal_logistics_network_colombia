{
  "cells": [
    {
      "attachments": {},
      "cell_type": "markdown",
      "metadata": {
        "id": "zqjfTqJFOvFv"
      },
      "source": [
        "## Importación de librerías"
      ]
    },
    {
      "cell_type": "code",
      "execution_count": 1,
      "metadata": {
        "id": "FjYPJ5jIO3qV"
      },
      "outputs": [],
      "source": [
        "# Tratamiento de datos\n",
        "# ==============================================================================\n",
        "import pandas as pd\n",
        "import numpy as np\n",
        "\n",
        "# Gráficos\n",
        "# ==============================================================================\n",
        "import matplotlib.pyplot as plt\n",
        "from matplotlib import style\n",
        "import seaborn as sns\n",
        "\n",
        "# Liberías de optimización\n",
        "# ==============================================================================\n",
        "from pulp import *\n",
        "\n",
        "# Configuración warnings\n",
        "# ==============================================================================\n",
        "import warnings\n",
        "warnings.filterwarnings('ignore')"
      ]
    },
    {
      "attachments": {},
      "cell_type": "markdown",
      "metadata": {
        "id": "O3ekhkLiO7OJ"
      },
      "source": [
        "Importación de datos"
      ]
    },
    {
      "cell_type": "code",
      "execution_count": null,
      "metadata": {
        "id": "TFCbwyc-O7kl"
      },
      "outputs": [],
      "source": [
        "from google.colab import files \n",
        "files.upload()"
      ]
    },
    {
      "cell_type": "code",
      "execution_count": null,
      "metadata": {
        "id": "eL-imy8PPBXB"
      },
      "outputs": [],
      "source": [
        "# DEMANDA\n",
        "demanda = pd.read_excel('/content/Prueba_Data.xlsx', sheet_name='DEMANDA_1', index_col=0)\n",
        "#demanda['DEMANDA'] = demanda['DEMANDA'].astype('int32')\n",
        "\n",
        "# COSTOS FIJOS CTL\n",
        "CTL = pd.read_excel('Prueba_Data.xlsx', sheet_name='CTL')\n",
        "CTL = CTL[['CTL', 'COSTO_FIJO']]\n",
        "\n",
        "# COSTOS DE TRANSPORTE\n",
        "costos = pd.read_excel('/content/Prueba_Data.xlsx', sheet_name='COSTOS')"
      ]
    },
    {
      "cell_type": "code",
      "execution_count": 12,
      "metadata": {
        "id": "jwpUmEXKPJoJ"
      },
      "outputs": [],
      "source": [
        "# COSTOS DEL ORIGEN AL PUERTO\n",
        "costos_puertos = costos[costos.Tipo1.isin([\"ORIGEN\"]) & costos.Tipo2.isin([\"PUERTO\"])]\n",
        "costos_puertos = costos_puertos[['Nodo1_cod', 'Nodo2_cod', 'C_TOTAL']]\n",
        "costos_puertos.rename(columns={'Nodo1_cod':'ORIGEN', 'Nodo2_cod':'PUERTO'}, inplace=True)\n",
        "#display(costos_puertos)\n",
        "\n",
        "\n",
        "# COSTOS DEL PUERTO AL PUNTO DE TRASBORDO\n",
        "costos_ptm = costos[costos.Tipo1.isin([\"PUERTO\"]) & costos.Tipo2.isin([\"TRASBORDO\"])]\n",
        "costos_ptm = costos_ptm[['Nodo1_cod', 'Nodo2_cod', 'Modo', 'C_TOTAL']]\n",
        "costos_ptm.rename(columns={'Nodo1_cod':'PUERTO', 'Nodo2_cod':'TRASBORDO', 'Modo':'MODO'}, inplace=True)\n",
        "costos_ptm.reset_index(inplace=True, drop=True)\n",
        "costos_ptm['C_TOTAL'] = costos_ptm['C_TOTAL'].astype('int32')\n",
        "#display(costos_ptm)\n",
        "\n",
        "\n",
        "# COSTOS DEL PUNTO DE TRASBORDO AL DESTINO\n",
        "\n",
        "costos_tj = costos[costos.Tipo1.isin([\"TRASBORDO\"]) & costos.Tipo2.isin([\"DESTINO\"])]\n",
        "costos_tj = costos_tj[['Nodo1_cod', 'Nodo2_cod', 'C_TOTAL']]\n",
        "costos_tj.rename(columns={'Nodo1_cod':'TRASBORDO', 'Nodo2_cod':'DESTINO'}, inplace=True)\n",
        "costos_tj.reset_index(inplace=True, drop=True)\n",
        "#costos_tj"
      ]
    },
    {
      "attachments": {},
      "cell_type": "markdown",
      "metadata": {
        "id": "fWSOP6mTQYyA"
      },
      "source": [
        "Definición de conjuntos y parámetros"
      ]
    },
    {
      "cell_type": "code",
      "execution_count": 13,
      "metadata": {
        "id": "fHqKm5eoPURx"
      },
      "outputs": [],
      "source": [
        "# DEFINICIÓN DE CONJUNTOS\n",
        "\n",
        "origenes = [\"MEX\", \"PAN\", \"USA\", \"DEU\", \"ESP\", \"BRA\"]  # Nodos de origen\n",
        "destinos = [\"MED\", \"MNZ\", \"PER\", \"IBG\", \"NEV\", \"BOG\", \"BUG\"]  # Nodos de destino\n",
        "puertos = [\"CTG\", \"BAQ\", \"STM\"]  # Nodos puertos\n",
        "trasbordos = [\"PLT\", \"PTB\", \"DOR\", \"BCJ\", \"GRA\"]  # Nodos puntos de trasbordo\n",
        "modos = [\"CARRETERO\", \"FLUVIAL\", \"FERREO\"] # Modos de transporte"
      ]
    },
    {
      "cell_type": "code",
      "execution_count": 37,
      "metadata": {
        "id": "s9c64FkCPbho"
      },
      "outputs": [],
      "source": [
        "# DEFINICIÓN DE PARÁMETROS\n",
        "\n",
        "capacidad_puerto = {\"CTG\": 10000000,\"BAQ\": 10000000,\"STM\": 10000000}\n",
        "\n",
        "capacidad_trasbordo = {\"PLT\": 10000000, \n",
        "                       \"PTB\": 10000000, \n",
        "                       \"DOR\": 10000000, \n",
        "                       \"BCJ\": 10000000, \n",
        "                       \"GRA\": 10000000}\n",
        "\n",
        "demanda = demanda.transpose().unstack()\n",
        "\n",
        "costo_origen_puerto = {\n",
        "    (costos_puertos.ORIGEN[i],costos_puertos.PUERTO[i]): int(costos_puertos.C_TOTAL[i])\n",
        "    for i in range(len(costos_puertos))\n",
        "}\n",
        "\n",
        "costo_puerto_trasbordo = {\n",
        "    (costos_ptm.PUERTO[i], costos_ptm.TRASBORDO[i], costos_ptm.MODO[i]): int(costos_ptm.C_TOTAL[i])\n",
        "    for i in range(len(costos_ptm))\n",
        "}\n",
        "\n",
        "costo_trasbordo_destino = {\n",
        "    (costos_tj.TRASBORDO[i],costos_tj.DESTINO[i]): int(costos_tj.C_TOTAL[i])\n",
        "    for i in range(len(costos_tj))\n",
        "}\n",
        "\n",
        "costo_fijo_trasbordo = {\n",
        "    CTL.CTL[i]: int(CTL.COSTO_FIJO[i])\n",
        "    for i in range(len(CTL))\n",
        "}"
      ]
    },
    {
      "cell_type": "code",
      "execution_count": null,
      "metadata": {
        "id": "Rv7D4cYfaOqI"
      },
      "outputs": [],
      "source": [
        "#Demanda en formato dict\n",
        "\n",
        "origenes = demanda.ORIGEN.unique()\n",
        "destinos = demanda.DESTINO.unique()\n",
        "DEMANDA_DICT = dict()\n",
        "type_dict = 'records'\n",
        "\n",
        "for origen in origenes:\n",
        "  DEMANDA_DICT[origen] = {}\n",
        "  for destino in destinos:\n",
        "    valor = demanda[demanda.ORIGEN.isin([origen]) & demanda.DESTINO.isin([destino])]\n",
        "    valor.reset_index(inplace=True, drop=True)\n",
        "    DEMANDA_DICT[origen][destino] = valor.loc[0, 'DEMANDA']\n",
        "\n",
        "print(DEMANDA_DICT)"
      ]
    },
    {
      "cell_type": "code",
      "execution_count": null,
      "metadata": {
        "id": "_VGyUBJKaXn6"
      },
      "outputs": [],
      "source": [
        "# Diccionario de trasbordos\n",
        "\n",
        "trasbordos = CTL.CTL.unique()\n",
        "CTL_DICT = dict()\n",
        "\n",
        "for trasbordo in trasbordos:\n",
        "  valor = CTL[CTL.CTL.isin([trasbordo])]\n",
        "  valor.reset_index(inplace=True, drop=True)\n",
        "  CTL_DICT[trasbordo] = valor.loc[0, 'COSTO_FIJO']\n",
        "\n",
        "print(CTL_DICT)"
      ]
    },
    {
      "attachments": {},
      "cell_type": "markdown",
      "metadata": {
        "id": "5mASY7GOQeSk"
      },
      "source": [
        "### Prueba 1"
      ]
    },
    {
      "cell_type": "code",
      "execution_count": 3,
      "metadata": {
        "id": "FeK8uLSnZqiY"
      },
      "outputs": [],
      "source": [
        "# Datos del problema # Parameters\n",
        "origenes = ['O1', 'O2', 'O3']  # Nodos de origen\n",
        "destinos = ['D1', 'D2', 'D3']  # Nodos de destino\n",
        "puertos = ['P1', 'P2', 'P3']  # Nodos puertos\n",
        "trasbordos = ['T1', 'T2', 'T3']  # Nodos puntos de trasbordo\n",
        "modos = ['carretero', 'ferreo', 'fluvial']\n",
        "\n",
        "demanda = {'O1': {'D1': 10, 'D2': 15, 'D3': 20},\n",
        "           'O2': {'D1': 5, 'D2': 8, 'D3': 12},\n",
        "           'O3': {'D1': 7, 'D2': 10, 'D3': 15}}\n",
        "\n",
        "capacidad_puerto = {'P1': 50,'P2': 50,'P3': 50}\n",
        "\n",
        "capacidad_trasbordo = {'T1': 10000,'T2': 10000, 'T3': 10000}\n",
        "\n",
        "costo_origen_puerto = {'O1': {'P1': 10, 'P2': 15, 'P3': 12},\n",
        "                       'O2': {'P1': 8, 'P2': 11, 'P3': 9},\n",
        "                       'O3': {'P1': 12, 'P2': 10, 'P3': 14}}\n",
        "\n",
        "costo_puerto_trasbordo = {\n",
        "    'P1': {'T1': {'carretero': 6, 'ferreo': 7, 'fluvial': 8}, 'T2': {'carretero': 5, 'ferreo': 6, 'fluvial': 7},'T3': {'carretero': 5, 'ferreo': 6, 'fluvial': 7}},\n",
        "    'P2': {'T1': {'carretero': 8, 'ferreo': 9, 'fluvial': 10}, 'T2': {'carretero': 7, 'ferreo': 8, 'fluvial': 9}, 'T3': {'carretero': 5, 'ferreo': 6, 'fluvial': 7}},\n",
        "    'P3': {'T1': {'carretero': 9, 'ferreo': 10, 'fluvial': 11}, 'T2': {'carretero': 10, 'ferreo': 11, 'fluvial': 12}, 'T3': {'carretero': 5, 'ferreo': 6, 'fluvial': 7}}\n",
        "}\n",
        "\n",
        "\n",
        "costo_trasbordo_destino = {\n",
        "    'T1': {'D1': 9, 'D2': 12, 'D3': 11},\n",
        "    'T2': {'D1': 8, 'D2': 10, 'D3': 13},\n",
        "    'T3': {'D1': 5, 'D2': 13, 'D3': 10}\n",
        "}\n",
        "\n",
        "costo_fijo_trasbordo = {\n",
        "    'T1': 95,\n",
        "    'T2': 100,\n",
        "    'T3': 100\n",
        "}"
      ]
    },
    {
      "cell_type": "code",
      "execution_count": 6,
      "metadata": {
        "colab": {
          "base_uri": "https://localhost:8080/"
        },
        "id": "P-1q6Nw5QjMt",
        "outputId": "155dec4b-37ca-4b1c-92cf-67468639820f"
      },
      "outputs": [
        {
          "name": "stdout",
          "output_type": "stream",
          "text": [
            "Welcome to the CBC MILP Solver \n",
            "Version: 2.10.3 \n",
            "Build Date: Dec 15 2019 \n",
            "\n",
            "command line - /home/storreglosa/anaconda3/envs/multimodal_logistics_network_colombia/lib/python3.7/site-packages/pulp/solverdir/cbc/linux/64/cbc /tmp/69fa5151a14940bda820724f3a4b2311-pulp.mps timeMode elapsed branch printingOptions all solution /tmp/69fa5151a14940bda820724f3a4b2311-pulp.sol (default strategy 1)\n",
            "At line 2 NAME          MODEL\n",
            "At line 3 ROWS\n",
            "At line 21 COLUMNS\n",
            "At line 1009 RHS\n",
            "At line 1026 BOUNDS\n",
            "At line 1030 ENDATA\n",
            "Problem MODEL has 16 rows, 246 columns and 735 elements\n",
            "Coin0008I MODEL read with 0 errors\n",
            "Option for timeMode changed from cpu to elapsed\n",
            "Continuous objective value is 18228 - 0.00 seconds\n",
            "Cgl0004I processed model has 16 rows, 84 columns (3 integer (3 of which binary)) and 249 elements\n",
            "Cbc0038I Initial state - 2 integers unsatisfied sum - 0.215686\n",
            "Cbc0038I Pass   1: suminf.    0.00000 (0) obj. 18388 iterations 7\n",
            "Cbc0038I Solution found of 18388\n",
            "Cbc0038I Relaxing continuous gives 18304\n",
            "Cbc0038I Before mini branch and bound, 1 integers at bound fixed and 72 continuous\n",
            "Cbc0038I Mini branch and bound did not improve solution (0.00 seconds)\n",
            "Cbc0038I Round again with cutoff of 18296.4\n",
            "Cbc0038I Reduced cost fixing fixed 1 variables on major pass 2\n",
            "Cbc0038I Pass   2: suminf.    0.01656 (2) obj. 18296.4 iterations 5\n",
            "Cbc0038I Pass   3: suminf.    0.26242 (2) obj. 18296.4 iterations 12\n",
            "Cbc0038I Pass   4: suminf.    0.26242 (2) obj. 18296.4 iterations 0\n",
            "Cbc0038I Pass   5: suminf.    0.26242 (2) obj. 18296.4 iterations 0\n",
            "Cbc0038I Pass   6: suminf.    0.26242 (2) obj. 18296.4 iterations 0\n",
            "Cbc0038I Pass   7: suminf.    0.26242 (2) obj. 18296.4 iterations 0\n",
            "Cbc0038I Pass   8: suminf.    0.26242 (2) obj. 18296.4 iterations 0\n",
            "Cbc0038I Pass   9: suminf.    0.26242 (2) obj. 18296.4 iterations 0\n",
            "Cbc0038I Pass  10: suminf.    0.26242 (2) obj. 18296.4 iterations 0\n",
            "Cbc0038I Pass  11: suminf.    0.26242 (2) obj. 18296.4 iterations 0\n",
            "Cbc0038I Pass  12: suminf.    0.26242 (2) obj. 18296.4 iterations 0\n",
            "Cbc0038I Pass  13: suminf.    0.26242 (2) obj. 18296.4 iterations 0\n",
            "Cbc0038I Pass  14: suminf.    0.26242 (2) obj. 18296.4 iterations 0\n",
            "Cbc0038I Pass  15: suminf.    0.26242 (2) obj. 18296.4 iterations 0\n",
            "Cbc0038I Pass  16: suminf.    0.26242 (2) obj. 18296.4 iterations 0\n",
            "Cbc0038I Pass  17: suminf.    0.26242 (2) obj. 18296.4 iterations 0\n",
            "Cbc0038I Pass  18: suminf.    0.26242 (2) obj. 18296.4 iterations 0\n",
            "Cbc0038I Pass  19: suminf.    0.26242 (2) obj. 18296.4 iterations 0\n",
            "Cbc0038I Pass  20: suminf.    0.26242 (2) obj. 18296.4 iterations 0\n",
            "Cbc0038I Pass  21: suminf.    0.26242 (2) obj. 18296.4 iterations 0\n",
            "Cbc0038I Pass  22: suminf.    0.26242 (2) obj. 18296.4 iterations 0\n",
            "Cbc0038I Pass  23: suminf.    0.26242 (2) obj. 18296.4 iterations 0\n",
            "Cbc0038I Pass  24: suminf.    0.26242 (2) obj. 18296.4 iterations 0\n",
            "Cbc0038I Pass  25: suminf.    0.26242 (2) obj. 18296.4 iterations 0\n",
            "Cbc0038I Pass  26: suminf.    0.26242 (2) obj. 18296.4 iterations 0\n",
            "Cbc0038I Pass  27: suminf.    0.26242 (2) obj. 18296.4 iterations 0\n",
            "Cbc0038I Pass  28: suminf.    0.26242 (2) obj. 18296.4 iterations 0\n",
            "Cbc0038I Pass  29: suminf.    0.26242 (2) obj. 18296.4 iterations 0\n",
            "Cbc0038I Pass  30: suminf.    0.26242 (2) obj. 18296.4 iterations 0\n",
            "Cbc0038I Pass  31: suminf.    0.26242 (2) obj. 18296.4 iterations 0\n",
            "Cbc0038I No solution found this major pass\n",
            "Cbc0038I Before mini branch and bound, 1 integers at bound fixed and 67 continuous\n",
            "Cbc0038I Full problem 16 rows 84 columns, reduced to 1 rows 2 columns\n",
            "Cbc0038I Mini branch and bound did not improve solution (0.00 seconds)\n",
            "Cbc0038I After 0.00 seconds - Feasibility pump exiting with objective of 18304 - took 0.00 seconds\n",
            "Cbc0012I Integer solution of 18304 found by feasibility pump after 0 iterations and 0 nodes (0.00 seconds)\n",
            "Cbc0038I Full problem 16 rows 84 columns, reduced to 14 rows 82 columns\n",
            "Cbc0031I 8 added rows had average density of 4.75\n",
            "Cbc0013I At root node, 22 cuts changed objective from 18228 to 18304 in 1 passes\n",
            "Cbc0014I Cut generator 0 (Probing) - 16 row cuts average 2.0 elements, 0 column cuts (0 active)  in 0.000 seconds - new frequency is 1\n",
            "Cbc0014I Cut generator 1 (Gomory) - 1 row cuts average 28.0 elements, 0 column cuts (0 active)  in 0.000 seconds - new frequency is 1\n",
            "Cbc0014I Cut generator 2 (Knapsack) - 0 row cuts average 0.0 elements, 0 column cuts (0 active)  in 0.000 seconds - new frequency is -100\n",
            "Cbc0014I Cut generator 3 (Clique) - 0 row cuts average 0.0 elements, 0 column cuts (0 active)  in 0.000 seconds - new frequency is -100\n",
            "Cbc0014I Cut generator 4 (MixedIntegerRounding2) - 2 row cuts average 5.5 elements, 0 column cuts (0 active)  in 0.000 seconds - new frequency is 1\n",
            "Cbc0014I Cut generator 5 (FlowCover) - 0 row cuts average 0.0 elements, 0 column cuts (0 active)  in 0.000 seconds - new frequency is -100\n",
            "Cbc0014I Cut generator 6 (TwoMirCuts) - 3 row cuts average 11.3 elements, 0 column cuts (0 active)  in 0.000 seconds - new frequency is -100\n",
            "Cbc0001I Search completed - best objective 18304, took 11 iterations and 0 nodes (0.01 seconds)\n",
            "Cbc0035I Maximum depth 0, 1 variables fixed on reduced cost\n",
            "Cuts at root node changed objective from 18228 to 18304\n",
            "Probing was tried 1 times and created 16 cuts of which 0 were active after adding rounds of cuts (0.000 seconds)\n",
            "Gomory was tried 1 times and created 1 cuts of which 0 were active after adding rounds of cuts (0.000 seconds)\n",
            "Knapsack was tried 1 times and created 0 cuts of which 0 were active after adding rounds of cuts (0.000 seconds)\n",
            "Clique was tried 1 times and created 0 cuts of which 0 were active after adding rounds of cuts (0.000 seconds)\n",
            "MixedIntegerRounding2 was tried 1 times and created 2 cuts of which 0 were active after adding rounds of cuts (0.000 seconds)\n",
            "FlowCover was tried 1 times and created 0 cuts of which 0 were active after adding rounds of cuts (0.000 seconds)\n",
            "TwoMirCuts was tried 1 times and created 3 cuts of which 0 were active after adding rounds of cuts (0.000 seconds)\n",
            "ZeroHalf was tried 1 times and created 0 cuts of which 0 were active after adding rounds of cuts (0.000 seconds)\n",
            "\n",
            "Result - Optimal solution found\n",
            "\n",
            "Objective value:                18304.00000000\n",
            "Enumerated nodes:               0\n",
            "Total iterations:               11\n",
            "Time (CPU seconds):             0.01\n",
            "Time (Wallclock seconds):       0.01\n",
            "\n",
            "Option for printingOptions changed from normal to all\n",
            "Total time (CPU seconds):       0.01   (Wallclock seconds):       0.01\n",
            "\n"
          ]
        },
        {
          "data": {
            "text/plain": [
              "1"
            ]
          },
          "execution_count": 6,
          "metadata": {},
          "output_type": "execute_result"
        }
      ],
      "source": [
        "# Variables\n",
        "x = LpVariable.dicts('Flujo', (origenes, destinos, puertos, trasbordos, modos),0)\n",
        "\n",
        "# Variable de decisión\n",
        "y = LpVariable.dicts('y', (trasbordos), lowBound = 0, upBound = 1, cat='Integer')\n",
        "\n",
        "# Model\n",
        "model = LpProblem(\"Localizacion de puntos de trasbordo\", LpMinimize)\n",
        "\n",
        "# Objective function\n",
        "CT = lpSum(costo_origen_puerto[i][p]* x[i][j][p][t][m] + \n",
        "           costo_puerto_trasbordo[p][t][m]*x[i][j][p][t][m] + \n",
        "           costo_trasbordo_destino[t][j]*x[i][j][p][t][m] +\n",
        "           costo_fijo_trasbordo[t]*y[t] for i in origenes for j in destinos for p in puertos for t in trasbordos for m in modos)\n",
        "\n",
        "model += CT\n",
        "\n",
        "# Constraints\n",
        "# Restricciones de capacidad en los puertos\n",
        "for p in puertos:\n",
        "    model += lpSum(x[i][j][p][t][m] for i in origenes for j in destinos for t in trasbordos for m in modos) <= capacidad_puerto[p]\n",
        "\n",
        "# Restricciones de capacidad en los trasbordos\n",
        "for t in trasbordos:\n",
        "    model += lpSum(x[i][j][p][t][m] for i in origenes for j in destinos for p in puertos for m in modos) <= capacidad_trasbordo[t]*y[t]\n",
        "\n",
        "# Restricciones de demanda satisfecha\n",
        "for i in origenes:\n",
        "    for j in destinos:\n",
        "        model += lpSum(x[i][j][p][t][m] for p in puertos for t in trasbordos for m in modos) == demanda[i][j]\n",
        "\n",
        "#for j in destinos:\n",
        "model += lpSum(y[t] for t in trasbordos) == 2 # Cantidad de puertos por seleccionar\n",
        "\n",
        "# Solve\n",
        "model.solve()"
      ]
    },
    {
      "cell_type": "code",
      "execution_count": 7,
      "metadata": {
        "colab": {
          "base_uri": "https://localhost:8080/"
        },
        "id": "SWvk9hrtZxoo",
        "outputId": "d415ef16-727b-44bf-c512-ce038a8c40bf"
      },
      "outputs": [
        {
          "name": "stdout",
          "output_type": "stream",
          "text": [
            "18304.0\n",
            "Costo total:  18304.0\n",
            "-------------------------------------------------\n",
            "Trasbordo:  T1  Costo fijo:  95  Seleccionado:  1.0\n",
            "Trasbordo:  T2  Costo fijo:  100  Seleccionado:  0.0\n",
            "Trasbordo:  T3  Costo fijo:  100  Seleccionado:  1.0\n",
            "-------------------------------------------------\n",
            "Origen:  O1  Destino:  D1  Puerto:  P1  Trasbordo:  T3  Modo de transporte:  carretero  Cantidad:  10.0\n",
            "Origen:  O1  Destino:  D2  Puerto:  P1  Trasbordo:  T1  Modo de transporte:  carretero  Cantidad:  15.0\n",
            "Origen:  O1  Destino:  D3  Puerto:  P1  Trasbordo:  T3  Modo de transporte:  carretero  Cantidad:  20.0\n",
            "Origen:  O2  Destino:  D1  Puerto:  P3  Trasbordo:  T3  Modo de transporte:  carretero  Cantidad:  5.0\n",
            "Origen:  O2  Destino:  D2  Puerto:  P1  Trasbordo:  T1  Modo de transporte:  carretero  Cantidad:  5.0\n",
            "Origen:  O2  Destino:  D2  Puerto:  P3  Trasbordo:  T3  Modo de transporte:  carretero  Cantidad:  3.0\n",
            "Origen:  O2  Destino:  D3  Puerto:  P3  Trasbordo:  T3  Modo de transporte:  carretero  Cantidad:  12.0\n",
            "Origen:  O3  Destino:  D1  Puerto:  P2  Trasbordo:  T3  Modo de transporte:  carretero  Cantidad:  7.0\n",
            "Origen:  O3  Destino:  D2  Puerto:  P2  Trasbordo:  T3  Modo de transporte:  carretero  Cantidad:  10.0\n",
            "Origen:  O3  Destino:  D3  Puerto:  P2  Trasbordo:  T3  Modo de transporte:  carretero  Cantidad:  15.0\n"
          ]
        }
      ],
      "source": [
        "valor = model.objective.value()\n",
        "print (valor)\n",
        "\n",
        "# Print results\n",
        "print(\"Costo total: \", value(model.objective))\n",
        "print(\"-------------------------------------------------\")\n",
        "for t in trasbordos:\n",
        "        print(\"Trasbordo: \", t, \" Costo fijo: \", costo_fijo_trasbordo[t], \" Seleccionado: \", y[t].value())\n",
        "print(\"-------------------------------------------------\")\n",
        "for i in origenes:\n",
        "    for j in destinos:\n",
        "        for p in puertos:\n",
        "            for t in trasbordos:\n",
        "                for m in modos:\n",
        "                  if x[i][j][p][t][m].value() > 0:\n",
        "                    print(\"Origen: \", i, \" Destino: \", j, \" Puerto: \", p, \" Trasbordo: \", t, \" Modo de transporte: \", m, \" Cantidad: \", x[i][j][p][t][m].value())\n"
      ]
    },
    {
      "cell_type": "code",
      "execution_count": null,
      "metadata": {},
      "outputs": [],
      "source": [
        "# Variables\n",
        "#x = {(i, j, p, t, m): 0 for i in origenes for j in destinos for p in puertos for t in trasbordos for m in modos}\n",
        "\n",
        "#x = LpVariable.dicts('x', (origenes, destinos, puertos, trasbordos, modos), 0, None, LpContinuous)\n",
        "\n",
        "# Variable de decisión\n",
        "#y = LpVariable.dicts('y', (trasbordos), 0, 1, LpBinary)\n",
        "\n",
        "'''\n",
        "# Objective function\n",
        "model += lpSum(costo_origen_puerto[i][p]* x[i, j, p, t, m] + \n",
        "               costo_puerto_trasbordo[p][t][m]*x[i, j, p, t, m]  + \n",
        "               costo_trasbordo_destino[t][j]*x[i, j, p, t, m] + \n",
        "               costo_fijo_trasbordo[t]*y[t] for i in origenes for j in destinos for p in puertos for t in trasbordos for m in modos)\n",
        "\n",
        "model += lpSum(costo_origen_puerto[i][p]* x[i][j][p][t][m] + \n",
        "               costo_puerto_trasbordo[p][t][m]*x[i][j][p][t][m] + \n",
        "               costo_trasbordo_destino[t][j]*x[i][j][p][t][m] + \n",
        "               costo_fijo_trasbordo[t]*y[t] for i in origenes for j in destinos for p in puertos for t in trasbordos for m in modos)\n",
        "'''\n",
        "\n",
        "# Constraints\n",
        "'''\n",
        "# Restricciones de capacidad en los puertos\n",
        "for p in puertos:\n",
        "    model += lpSum(x[i, j, p, t, m] for i in origenes for j in destinos for t in trasbordos for m in modos) <= capacidad_puerto[p]\n",
        "\n",
        "# Restricciones de capacidad en los trasbordos\n",
        "for t in trasbordos:\n",
        "    model += lpSum(x[i, j, p, t, m] for i in origenes for j in destinos for p in puertos for m in modos) <= capacidad_trasbordo[t]\n",
        "\n",
        "# Restricciones de demanda satisfecha\n",
        "for i in origenes:\n",
        "    for j in destinos:\n",
        "        model += lpSum(x[i, j, p, t, m] for p in puertos for t in trasbordos for m in modos) == demanda[i][j]\n",
        "'''\n"
      ]
    }
  ],
  "metadata": {
    "colab": {
      "provenance": []
    },
    "kernelspec": {
      "display_name": "Python 3",
      "name": "python3"
    },
    "language_info": {
      "codemirror_mode": {
        "name": "ipython",
        "version": 3
      },
      "file_extension": ".py",
      "mimetype": "text/x-python",
      "name": "python",
      "nbconvert_exporter": "python",
      "pygments_lexer": "ipython3",
      "version": "3.7.16"
    }
  },
  "nbformat": 4,
  "nbformat_minor": 0
}
