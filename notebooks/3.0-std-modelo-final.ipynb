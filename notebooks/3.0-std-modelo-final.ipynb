{
 "cells": [
  {
   "attachments": {},
   "cell_type": "markdown",
   "metadata": {},
   "source": [
    "### Importación de librerias"
   ]
  },
  {
   "cell_type": "code",
   "execution_count": null,
   "metadata": {},
   "outputs": [],
   "source": [
    "# Tratamiento de datos\n",
    "# ==============================================================================\n",
    "import pandas as pd\n",
    "import numpy as np\n",
    "\n",
    "# Gráficos\n",
    "# ==============================================================================\n",
    "import matplotlib.pyplot as plt\n",
    "from matplotlib import style\n",
    "import seaborn as sns\n",
    "\n",
    "# Liberías de optimización\n",
    "# ==============================================================================\n",
    "from pulp import *\n",
    "\n",
    "# Configuración warnings\n",
    "# ==============================================================================\n",
    "import warnings\n",
    "warnings.filterwarnings('ignore')"
   ]
  },
  {
   "attachments": {},
   "cell_type": "markdown",
   "metadata": {},
   "source": [
    "### Importación de datos"
   ]
  },
  {
   "cell_type": "code",
   "execution_count": null,
   "metadata": {},
   "outputs": [],
   "source": [
    "origenes = [\"EU\", \"BRA\", \"USA\", \"CA\"]  # Nodos de origen\n"
   ]
  },
  {
   "cell_type": "code",
   "execution_count": 51,
   "metadata": {},
   "outputs": [],
   "source": [
    "# Leemos los conjuntos\n",
    "import pandas as pd\n",
    "import numpy as np\n",
    "import sys\n",
    "import os\n",
    "\n",
    "\n",
    "Origin = ['manizales','medellin','bucaramanga','bogota','ibague','neival','soacha','pereira']\n",
    "\n",
    "Destination = ['españa','alemania','brazil','panama','mexico','estados_unidos']\n",
    "\n",
    "CTL = ['ctl_bogota',\n",
    "       'ctl_pereira',\n",
    "       'ctl_manizales',\n",
    "       'ctl_soacha',\n",
    "       'ctl_neiva',\n",
    "       'ctl_ibague',\n",
    "       'ctl_cienaga',\n",
    "       'ctl_la_dorada',\n",
    "       'ctl_puerto_berrio']\n",
    "\n",
    "PCTL = ['ctl_soeldad','ctl_santa_marta','ctl_cartagena']\n",
    "\n",
    "Port = ['puerto_de_cartagena','puerto_de_barranquilla','puerto_de_santa_marta']\n",
    "\n",
    "CAPk = pd.read_excel(\"model_data.xlsx\",sheet_name=\"CAPk\").set_index(\"CTL\")\n",
    "CAPm = pd.read_excel(\"model_data.xlsx\",sheet_name=\"CAPm\").set_index(\"PCTL\")\n",
    "\n",
    "Fk = pd.read_excel(\"model_data.xlsx\",sheet_name=\"Fk\")#.set_index(\"CTL\")\n",
    "Fm = pd.read_excel(\"model_data.xlsx\",sheet_name=\"Fm\")#.set_index(\"PCTL\")\n",
    "\n",
    "Wij=pd.read_excel(\"model_data.xlsx\",sheet_name=\"Wij\")#.set_index(['Origin', 'Destination'])\n",
    "\n",
    "costs=pd.read_excel(\"model_data.xlsx\",sheet_name=\"cost\")#.set_index(['code_inicio', 'code_fin'], inplace=True)\n"
   ]
  },
  {
   "attachments": {},
   "cell_type": "markdown",
   "metadata": {},
   "source": [
    "### Transformación de datos"
   ]
  },
  {
   "cell_type": "code",
   "execution_count": 29,
   "metadata": {},
   "outputs": [
    {
     "name": "stdout",
     "output_type": "stream",
     "text": [
      "{'manizales': {'españa': 304, 'alemania': 293, 'brazil': 336, 'panama': 199, 'mexico': 269, 'estados_unidos': 468}, 'medellin': {'españa': 58, 'alemania': 469, 'brazil': 100, 'panama': 114, 'mexico': 440, 'estados_unidos': 165}, 'bucaramanga': {'españa': 18, 'alemania': 0, 'brazil': 264, 'panama': 199, 'mexico': 148, 'estados_unidos': 25}, 'bogota': {'españa': 371, 'alemania': 87, 'brazil': 120, 'panama': 71, 'mexico': 350, 'estados_unidos': 65}, 'ibague': {'españa': 187, 'alemania': 282, 'brazil': 237, 'panama': 89, 'mexico': 261, 'estados_unidos': 44}, 'neival': {'españa': 51, 'alemania': 489, 'brazil': 32, 'panama': 75, 'mexico': 214, 'estados_unidos': 453}, 'soacha': {'españa': 43, 'alemania': 240, 'brazil': 181, 'panama': 439, 'mexico': 266, 'estados_unidos': 361}, 'pereira': {'españa': 262, 'alemania': 218, 'brazil': 466, 'panama': 400, 'mexico': 378, 'estados_unidos': 359}}\n"
     ]
    }
   ],
   "source": [
    "#Demanda en formato dict\n",
    "\n",
    "origenes = Wij.Origin.unique()\n",
    "destinos = Wij.Destination.unique()\n",
    "DEMANDA_DICT = dict()\n",
    "type_dict = 'records'\n",
    "\n",
    "for origen in origenes:\n",
    "  DEMANDA_DICT[origen] = {}\n",
    "  for destino in destinos:\n",
    "    valor = Wij[Wij.Origin.isin([origen]) & Wij.Destination.isin([destino])]\n",
    "    valor.reset_index(inplace=True, drop=True)\n",
    "    DEMANDA_DICT[origen][destino] = valor.loc[0, 'Wij']\n",
    "\n",
    "print(DEMANDA_DICT)"
   ]
  },
  {
   "cell_type": "code",
   "execution_count": 47,
   "metadata": {},
   "outputs": [
    {
     "name": "stdout",
     "output_type": "stream",
     "text": [
      "{'ctl_bogota': 37553.69934640523, 'ctl_pereira': 36382.836601307186, 'ctl_manizales': 36358.875816993466, 'ctl_soacha': 36915.27450980392, 'ctl_neiva': 35896.504575163395, 'ctl_ibague': 36119.61568627451, 'ctl_cienaga': 36642.69281045752, 'ctl_la_dorada': 36307.18954248366, 'ctl_puerto_berrio': 35981.56862745098}\n",
      "{'ctl_cartagena': 37758.67973856209, 'ctl_soeldad': 36933.921568627455, 'ctl_santa_marta': 39106.73202614379}\n"
     ]
    }
   ],
   "source": [
    "#Costos en formato dict\n",
    "\n",
    "#Costos fijos Fk\n",
    "ctls = Fk.CTL.unique()\n",
    "Fk_dict = dict()\n",
    "\n",
    "for trasbordo in ctls:\n",
    "  valor = Fk[Fk.CTL.isin([trasbordo])]\n",
    "  valor.reset_index(inplace=True, drop=True)\n",
    "  Fk_dict[trasbordo] = valor.loc[0, 'Fk']\n",
    "\n",
    "print(Fk_dict)\n",
    "\n",
    "#Costos fijos Fm\n",
    "pctls = Fm.PCTL.unique()\n",
    "Fm_dict = dict()\n",
    "\n",
    "for trasbordo in pctls:\n",
    "  valor = Fm[Fm.PCTL.isin([trasbordo])]\n",
    "  valor.reset_index(inplace=True, drop=True)\n",
    "  Fm_dict[trasbordo] = valor.loc[0, 'Fm']\n",
    "\n",
    "print(Fm_dict)"
   ]
  },
  {
   "cell_type": "code",
   "execution_count": null,
   "metadata": {},
   "outputs": [],
   "source": [
    "#Costos en formato dict\n",
    "\n",
    "#Costos de transporte Cijkmp\n"
   ]
  },
  {
   "cell_type": "code",
   "execution_count": null,
   "metadata": {},
   "outputs": [],
   "source": [
    "#param Cijp{i in Origin, j in Destination, p in PCTL};##Costo de transporte unitario del origen i ∈ I al destino j ∈ J utilizando la alternativa de envío directo carretero al puerto p\n",
    "#param Cijkp{i in Origin, j in Destination, k in CTL, p in Port};##Costo de transporte unitario del origen i ∈ I al destino j ∈ J utilizando la alternativade envío a través de la terminal k ∈ K al puerto p\n",
    "#param Cijmp{i in Origin, j in Destination, m in PCTL, p in Port};##Costo de transporte unitario del origen i ∈ I al destino j ∈ J utilizando la alternativade envío a través de la terminal m ∈ M al puerto p    \n",
    "#param Cijkmp{i in Origin, j in Destination,  k in CTL, m in PCTL, p in Port};#Costo de transporte unitario del origen i ∈ I al destino j ∈ J utilizando la alternativa de envío a través del par de terminales k ∈ K y m ∈ M al puerto p\n",
    "\n",
    "#param Eijp{i in Origin, j in Destination, p in PCTL};##Costo de externalidad unitario del origen i ∈ I al destino j ∈ J utilizando la alternativa de envío directo carretero al puerto p\n",
    "#param Eijkp{i in Origin, j in Destination, k in CTL, p in Port};##Costo de externalidad unitario del origen i ∈ I al destino j ∈ J utilizando la alternativade envío a través de la terminal k ∈ K al puerto p\n",
    "#param Eijmp{i in Origin, j in Destination, m in PCTL, p in Port};##Costo de externalidad unitario del origen i ∈ I al destino j ∈ J utilizando la alternativade envío a través de la terminal m ∈ M al puerto p    \n",
    "#param Eijkmp{i in Origin, j in Destination,  k in CTL, m in PCTL, p in Port};#Costo de externalidad unitario del origen i ∈ I al destino j ∈ J utilizando la alternativa de envío a través del par de terminales k ∈ K y m ∈ M al puerto p\n",
    "    "
   ]
  }
 ],
 "metadata": {
  "kernelspec": {
   "display_name": "multimodal_logistics_network_colombia",
   "language": "python",
   "name": "python3"
  },
  "language_info": {
   "codemirror_mode": {
    "name": "ipython",
    "version": 3
   },
   "file_extension": ".py",
   "mimetype": "text/x-python",
   "name": "python",
   "nbconvert_exporter": "python",
   "pygments_lexer": "ipython3",
   "version": "3.7.16"
  },
  "orig_nbformat": 4
 },
 "nbformat": 4,
 "nbformat_minor": 2
}
