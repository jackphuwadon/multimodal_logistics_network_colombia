{
 "cells": [
  {
   "attachments": {},
   "cell_type": "markdown",
   "metadata": {},
   "source": [
    "## Propuesta de modelo estratégico de localización de terminales multimodales: Archivo .mod"
   ]
  },
  {
   "attachments": {},
   "cell_type": "markdown",
   "metadata": {},
   "source": [
    "### Objetivo:\n",
    "- Diseñar un modelo matemático para diseñar la red logística. El modelo deberá considerar costos fijos de la infraestructura, costos de transporte (incluyendo externalidades) y costos de manipulación de la carga. Seguidamente, aplicará el modelo para el contexto que está analizando, para lo cual deberá construir la red correspondiente multimodal y conseguir información de costos. Se modelarán aquí las exportaciones. La información de exportaciones se obtendrá de la página de la DIAN"
   ]
  },
  {
   "attachments": {},
   "cell_type": "markdown",
   "metadata": {},
   "source": [
    "### Definición de conjuntos\n"
   ]
  },
  {
   "attachments": {},
   "cell_type": "markdown",
   "metadata": {},
   "source": [
    "Dentro de la operación multimodal planteada, se consideran los siguientes conjuntos:\n",
    "- **i**: Conjunto de nodos generadores de carga [Origin]\n",
    "- **j**: Conjunto de nodos atractores [Destination]\n",
    "- **k**: Conjunto de nodos Centros de transferencia logística [CTL]\n",
    "- **m**: Conjunto de CTL en los puertos [PCTL]\n",
    "- **f**: Conjunto de nodos, estaciones de tren [Train_E]\n",
    "- **p**: Conjunto de nodos puertos marítimo [Port]\n",
    "- **m**: Conjunto de modos de transporte. Carretero, Ferroviario y marítimo [Mode]\n"
   ]
  },
  {
   "attachments": {},
   "cell_type": "markdown",
   "metadata": {},
   "source": [
    "### Definición de parámetros\n"
   ]
  },
  {
   "attachments": {},
   "cell_type": "markdown",
   "metadata": {},
   "source": [
    "Se plantean los siguientes parámetros:\n",
    "- dij: Demanda del origen i al destino j [Demand]\n",
    "- Fk: Costos fijos de los centros de transferencia logística [CTL_cost]\n",
    "- Cik: Costo de transporte del nodo i al nodo k [transport_cost_ik]\n",
    "- Ckf: Costo de transporte del nodo k al nodo f [transport_cost_ik]\n",
    "- Ckp: Costo de transporte del nodo k al nodo p [transport_cost_ik]\n",
    "- Cff: Costo de transporte del nodo f al nodo f [transport_cost_ik]\n",
    "- Cfk: Costo de transporte del nodo f al nodo k [transport_cost_ik]\n",
    "- Cpj: Costo Externalidad del nodo p al nodo j [externality_cost_ik]\n",
    "- Eik: Costo Externalidad del nodo i al nodo k [externality_cost_ik]\n",
    "- Ekf: Costo Externalidad del nodo k al nodo f [externality_cost_ik]\n",
    "- Ekp: Costo Externalidad del nodo k al nodo p [externality_cost_ik]\n",
    "- Eff: Costo Externalidad del nodo f al nodo f [externality_cost_ik]\n",
    "- Efk: Costo Externalidad del nodo f al nodo k [externality_cost_ik]\n",
    "- Epj: Costo Externalidad del nodo p al nodo j [externality_cost_ik]\n",
    "- Qk: Capacidad del Centro de transferencia logística k [Capacity_k]\n",
    "- p: Cantidad de centros de transferencia logística a escoger [amount_k]"
   ]
  },
  {
   "attachments": {},
   "cell_type": "markdown",
   "metadata": {},
   "source": [
    "### Definición de variables\n"
   ]
  },
  {
   "attachments": {},
   "cell_type": "markdown",
   "metadata": {},
   "source": [
    "Se definen las siguientes variables:\n",
    "- Xijk: Proporción de la demanada ij que va por el centro k [Xijk]\n",
    "- Xijkp: Proporción de la demanda de ij que va del centro k al puert p [Xijkp]\n",
    "- Xijkf: Proporción de la demanda ij que va por el centro k y hace transbordo en la estación de tren f [Xijkf]\n",
    "- Xijkfk: Proporción de la demanda ij que va por el centro k hace transbordo en la estación f y va a el centro k2 [Xijkfk]\n",
    "- Xijkfkp: Proporción de la demanda ij que va por el centro k hace transbordo en la estación f y va a el centro k2 y luego hacia el puerto p [Xijkfk]\n",
    "- Yk: 1 si el centro k es escogido, 0 en otro caso [Yk]\n"
   ]
  },
  {
   "attachments": {},
   "cell_type": "markdown",
   "metadata": {},
   "source": [
    "### Definición de la función objetivo\n"
   ]
  },
  {
   "attachments": {},
   "cell_type": "markdown",
   "metadata": {},
   "source": [
    "Se define la siguiente función objetivo"
   ]
  },
  {
   "attachments": {
    "image.png": {
     "image/png": "[encoded data removed]"
    }
   },
   "cell_type": "markdown",
   "metadata": {},
   "source": [
    "![image.png](attachment:image.png)"
   ]
  },
  {
   "attachments": {},
   "cell_type": "markdown",
   "metadata": {},
   "source": [
    "### Definición de las restricciones\n"
   ]
  },
  {
   "attachments": {},
   "cell_type": "markdown",
   "metadata": {},
   "source": [
    "Se definen las siguientes restricctiones"
   ]
  },
  {
   "attachments": {},
   "cell_type": "markdown",
   "metadata": {},
   "source": [
    "### Planteamiento modelo AMPL"
   ]
  },
  {
   "cell_type": "code",
   "execution_count": 1,
   "metadata": {},
   "outputs": [
    {
     "name": "stdout",
     "output_type": "stream",
     "text": [
      "Licensed to AMPL Community Edition License for <santiagotorreglosadiaz@gmail.com>.\n"
     ]
    }
   ],
   "source": [
    "# Setting out amplpy library\n",
    "from amplpy import AMPL, tools\n",
    "ampl = tools.ampl_notebook(\n",
    "    modules=[\"coin\", \"highs\", \"gokestrel\"], # modules to install\n",
    "    license_uuid=\"dd2ebe38-2a32-444c-9502-e6ad048779b0\", # license to use\n",
    "    g=globals()) # instantiate AMPL object and register magics"
   ]
  },
  {
   "cell_type": "code",
   "execution_count": null,
   "metadata": {},
   "outputs": [],
   "source": [
    "# Creating the model\n",
    "ampl = AMPL()\n",
    "ampl.eval(r\"\"\"\n",
    "    # Setting groups \n",
    "    set Origin;\n",
    "    set Destination;\n",
    "    set CTL;\n",
    "    set PCTL;\n",
    "    set Train_E;\n",
    "    set Port;\n",
    "    set Mode;\n",
    "\n",
    "    # Setting parameters\n",
    "    param dij{i in Origin, j in Destination};\n",
    "    param Fk{k in CTL};\n",
    "    param Fm{m in PCTL};\n",
    "\n",
    "    param Cik{i in Origin, k in CTL};\n",
    "    param Ckf{k in CTL, f in Train_E};\n",
    "    #param Ckp{k in CTL, p in Port};\n",
    "    param Cff{f in Train_E};\n",
    "    param Cfk{f in Train_E, k in CTL};\n",
    "    param Cmp{m in PCTL, p in Port};\n",
    "    param Cpj{p in Port, j in Destination};\n",
    "\n",
    "    \n",
    "    param Eik{i in Origin, k in CTL};\n",
    "    param Ekf{k in CTL, f in Train_E};\n",
    "    #param Ekp{k in CTL, p in Port};\n",
    "    param Eff{f in Train_E};\n",
    "    param Efk{f in Train_E, k in CTL};\n",
    "    param Emp{m in PCTL, p in Port};\n",
    "    param Epj{p in Port, j in Destination};\n",
    "    \n",
    "    param Qk{k in CTL};\n",
    "    param Qm{m in PCTL};\n",
    "\n",
    "    # Setting variables\n",
    "    var Xijk{i in Origin, j in Destination, k in CTL};#Flujo del arco ok\n",
    "    var Xijmp{i in Origin, j in Destination, m in PCTL, p in Port};\n",
    "    \n",
    "    var Xijkf{i in Origin, j in Destination, k in CTL, f in Train_E};\n",
    "    var Xijkfm{i in Origin, j in Destination, k in CTL, f in Train_E, m in PCTL};\n",
    "    var Xijkfmp{i in Origin, j in Destination,k in CTL, f in Train_E, m in PCTL, p in Port};\n",
    "    var Yk{k in CTL} binary;  # = 1 if CTL built at k\n",
    "    var Ym{m in PCTL} binary;  # = 1 if CTL built at m\n",
    "\n",
    "    # Setting Objective Function\n",
    "    \n",
    "    minimize total_cost:\n",
    "        sum {k in CTL} Yk[k]*Fk[k] + sum {m in PCTL} Ym[m]*Fm[m]\n",
    "        + sum {i in Origin, j in Destination, k in CTL} Xijk[i,j,k]*(Cik[i,k]+Eik[i,k])\n",
    "        + sum {i in Origin, j in Destination, m in PCTL, p in Port} Xijmp[i,j,k,p]*(Cmp[k,p]+Emp[k,p])\n",
    "        + sum {i in Origin, j in Destination, k in CTL, f in Train_E} Xijkf[i,j,k,f]*(Ckf[k,f]+Ekf[k,f])\n",
    "        + sum {i in Origin, j in Destination, k in CTL, f in Train_E, m in PCTL} Xijkfm[i,j,k,f]*(Cmp[m,p]+Emp[m,p])\n",
    "        + sum {i in Origin, j in Destination, k in CTL, f in Train_E, m in PCTL, p in Port} Xijkfmp[i,j,k,f,m]*(Cmp[m,p]+Emp[m,p]);\n",
    "\n",
    "    # Restrictions\n",
    "    subject to chosen_CTL:\n",
    "        sum{k in CTL} Yk[k] = 5;\n",
    "    subject to a {i in Origin, j in Destination}:\n",
    "        sum{k in CTL} Xijk[i,j,k] = 1;\"\"\")"
   ]
  },
  {
   "cell_type": "code",
   "execution_count": 3,
   "metadata": {},
   "outputs": [],
   "source": [
    "# Creating the model\n",
    "ampl = AMPL()\n",
    "ampl.eval(r\"\"\"\n",
    "    # Setting groups \n",
    "    set Origin;#Conjunto de nodos generadores de carga\n",
    "    set Destination;#Conjunto de nodos atractores de carga\n",
    "    set CTL;#Conjunto de potenciales terminales de consolidación (hub)\n",
    "    set PCTL;#Conjunto de potenciales terminales de distribución (hub)\n",
    "    set Port;#Conjunto de puertos\n",
    "\n",
    "    # Setting parameters\n",
    "    param q;#Número de terminales abiertas\n",
    "    \n",
    "    param Fk{k in CTL};#Costo fijo de instalación de una terminal de consolidación en una terminal k ∈ K\n",
    "    param Fm{m in PCTL};#Costo fijo de instalación de una terminal de distribución en una terminal m ∈ M\n",
    "\n",
    "    param CAPk{k in CTL};#Capacidad de la terminal de consolidación k ∈ K\n",
    "    param CAPm{m in PCTL};#Capacidad de la terminal de consolidación m ∈ M\n",
    "\n",
    "    #param T_T{m in PCTL};#Costo de transporte unitario del origen i ∈ I al destino j ∈ J utilizando la alternativa de envío directo\n",
    "    param Cij{i in Origin, j in Destination};##Costo de transporte unitario del origen i ∈ I al destino j ∈ J utilizando la alternativa de envío directo\n",
    "    param Cikj{i in Origin, k in CTL, j in Destination};##Costo de transporte unitario del origen i ∈ I al destino j ∈ J utilizando la alternativade envío a través de la terminal k ∈ K\n",
    "    param Cimj{i in Origin, m in PCTL, j in Destination};##Costo de transporte unitario del origen i ∈ I al destino j ∈ J utilizando la alternativade envío a través de la terminal m ∈ M\n",
    "    param Cijkm{i in Origin, j in Destination, m in PCTL,  k in CTL};#Costo de transporte unitario del origen i ∈ I al destino j ∈ J utilizando la alternativa de envío a través del par de terminales k ∈ K y m ∈ M\n",
    "\n",
    "    param Eij{i in Origin, j in Destination};#Costos de externalidades unitario del origen i ∈ I al destino j ∈ J utilizando la alternativa de envío directo\n",
    "    param Eikj{i in Origin, k in CTL, j in Destination};#Costos de externalidades unitario del origen i ∈ I al destino j ∈ J utilizando la alternativade envío a través de la terminal k ∈ K\n",
    "    param Eimj{i in Origin, m in PCTL, j in Destination};#Costos de externalidades unitario del origen i ∈ I al destino j ∈ J utilizando la alternativade envío a través de la terminal m ∈ M\n",
    "    param Eijkm{i in Origin, j in Destination, m in PCTL,  k in CTL};#Costos de externalidades unitario del origen i ∈ I al destino j ∈ J utilizando la alternativa de envío a través del par de terminales k ∈ K y m ∈ M\n",
    "    \n",
    "    param Wij{i in Origin, j in Destination};#Demanda de carga a enviar del nodo de origen i ∈ I al destino j ∈ J\n",
    "\n",
    "    \n",
    "    # Setting variables\n",
    "    var Yk{k in CTL} binary;  # = 1 if CTL built at k\n",
    "    var Ym{m in PCTL} binary;  # = 1 if CTL built at m\n",
    "    var Ykm{k in CTL, m in PCTL} binary;  # = 1 if Yk*Ym=1\n",
    "    \n",
    "    var Pij{i in Origin, j in Destination};#Proporción de flujo de mercancía del producto p ∈ P que se envía directamente del origen i ∈ I al destino j ∈ J.\n",
    "    var Pikj{i in Origin, k in CTL, j in Destination};#Proporción de flujo de mercancía del producto p ∈ P que se envía del origen i ∈ I al destino j ∈ J a través de la terminal k ∈ K.\n",
    "    var Pimj{i in Origin, m in PCTL, j in Destination};#Proporción de flujo de mercancía del producto p ∈ P que se envía del origen i ∈ I al destino j ∈ J a través de la terminal m ∈ M.\n",
    "    var Pijkm{i in Origin, j in Destination, k in CTL, m in PCTL};#Proporción de flujo de mercancía del producto p ∈ P que se envía del origen i ∈ I al destino j ∈ J a través de las terminales k ∈ K y m ∈ M\n",
    "    \n",
    "    \n",
    "    # Setting Objective Function\n",
    "    \n",
    "    minimize total_cost:\n",
    "        sum {k in CTL} Yk[k]*Fk[k] + sum {m in PCTL} Ym[m]*Fm[m]\n",
    "        + sum {i in Origin, j in Destination} Pij[i,j]*Wij[i,j]*(Cij[i,j]+Eij[i,j])\n",
    "        + sum {i in Origin, j in Destination, k in CTL} Pikj[i,k,j]**Wij[i,j]*(Cikj[i,k,j]+Eikj[i,k,j])\n",
    "        + sum {i in Origin, j in Destination, m in PCTL} Pimj[i,m,j]**Wij[i,j]*(Cimj[i,m,j]+Eimj[i,m,j])\n",
    "        + sum {i in Origin, j in Destination, k in CTL, m in PCTL} Pijkm[i,j,k,m]*Wij[i,j]*(Cijkm[i,j,k,m]+Eijkm[i,j,k,m])\n",
    "\n",
    "       ;\n",
    "\n",
    "    # Restrictions\n",
    "    subject to chosen_CTL:#que q terminales serán seleccionadas\n",
    "        (sum{k in CTL} Yk[k]) + (sum{m in PCTL} Yk[m]) = q;\n",
    "        \n",
    "    subject to capacity {i in Origin, j in Destination}:#garantiza que el flujo de carga entre los nodos i y j es ruteado a través del envío directo o a través de las terminales que se encuentren disponibles\n",
    "        Pij[i,j] + (sum{k in CTL} Pikj[i,k,j]) + (sum{m in PCTL} Pimj[i,m,j]) \n",
    "        + (sum{k in CTL, m in PCTL} Pijkm[i,j,k,m]) = 1;\n",
    "        \n",
    "    subject to binary1 {k in CTL, m in PCTL}:#garantizan la resolución del problema de multiplicación de las variables binarias.\n",
    "        Yk[k] + Ym[m] <= 1 + Ykm[k,m];\n",
    "        \n",
    "    subject to binary2 {k in CTL, m in PCTL}:#garantizan la resolución del problema de multiplicación de las variables binarias.\n",
    "        2*Ykm[k,m] <= Yk[k] + Ym[m];\n",
    "    \n",
    "    subject to flow1 {k in CTL}:#garantizan que el flujo de carga que maneja cada terminal es menor o igual a la capacidad instalada\n",
    "        (sum{i in Origin, j in Destination} Pikj[i,k,j]*Wij[i,j]) + (sum{i in Origin, j in Destination,  m in PCTL} Pijkm[i,j,k,m]*Wij[i,j])  <= CAPk[k]*Yk[k];\n",
    "    subject to flow2 {m in PCTL}:#garantizan que el flujo de carga que maneja cada terminal es menor o igual a la capacidad instalada\n",
    "        (sum{i in Origin, j in Destination} Pimj[i,m,j]*Wij[i,j]) + (sum{i in Origin, j in Destination,  k in CTL} Pijkm[i,j,k,m]*Wij[i,j])  <= CAPm[m]*Ym[m];\n",
    " \n",
    "            \n",
    "        \"\"\")"
   ]
  },
  {
   "attachments": {},
   "cell_type": "markdown",
   "metadata": {},
   "source": [
    "## Modelo final"
   ]
  },
  {
   "cell_type": "code",
   "execution_count": 4,
   "metadata": {},
   "outputs": [],
   "source": [
    "# Creating the model\n",
    "ampl = AMPL()\n",
    "ampl.eval(r\"\"\"\n",
    "    # Setting groups \n",
    "    set Origin;#Conjunto de nodos generadores de carga\n",
    "    set Destination;#Conjunto de nodos atractores de carga\n",
    "    set CTL;#Conjunto de potenciales terminales de consolidación (hub)\n",
    "    set PCTL;#Conjunto de potenciales terminales de distribución (hub)\n",
    "    set Port;#Conjunto de puertos\n",
    "\n",
    "    # Setting parameters\n",
    "    param q;#Número de terminales abiertas\n",
    "    \n",
    "    param Fk{k in CTL};#Costo fijo de instalación de una terminal de consolidación en una terminal k ∈ K\n",
    "    param Fm{m in PCTL};#Costo fijo de instalación de una terminal de distribución en una terminal m ∈ M\n",
    "\n",
    "    param CAPk{k in CTL};#Capacidad de la terminal de consolidación k ∈ K\n",
    "    param CAPm{m in PCTL};#Capacidad de la terminal de consolidación m ∈ M\n",
    "\n",
    "    #param T_T{m in PCTL};#Costo de transporte unitario del origen i ∈ I al destino j ∈ J utilizando la alternativa de envío directo\n",
    "    param Cijp{i in Origin, j in Destination, p in PCTL};##Costo de transporte unitario del origen i ∈ I al destino j ∈ J utilizando la alternativa de envío directo carretero al puerto p\n",
    "    param Cijkp{i in Origin, j in Destination, k in CTL, p in Port};##Costo de transporte unitario del origen i ∈ I al destino j ∈ J utilizando la alternativade envío a través de la terminal k ∈ K al puerto p\n",
    "    param Cijmp{i in Origin, j in Destination, m in PCTL, p in Port};##Costo de transporte unitario del origen i ∈ I al destino j ∈ J utilizando la alternativade envío a través de la terminal m ∈ M al puerto p    \n",
    "    param Cijkmp{i in Origin, j in Destination,  k in CTL, m in PCTL, p in Port};#Costo de transporte unitario del origen i ∈ I al destino j ∈ J utilizando la alternativa de envío a través del par de terminales k ∈ K y m ∈ M al puerto p\n",
    "\n",
    "    param Eijp{i in Origin, j in Destination, p in PCTL};##Costo de externalidad unitario del origen i ∈ I al destino j ∈ J utilizando la alternativa de envío directo carretero al puerto p\n",
    "    param Eijkp{i in Origin, j in Destination, k in CTL, p in Port};##Costo de externalidad unitario del origen i ∈ I al destino j ∈ J utilizando la alternativade envío a través de la terminal k ∈ K al puerto p\n",
    "    param Eijmp{i in Origin, j in Destination, m in PCTL, p in Port};##Costo de externalidad unitario del origen i ∈ I al destino j ∈ J utilizando la alternativade envío a través de la terminal m ∈ M al puerto p    \n",
    "    param Eijkmp{i in Origin, j in Destination,  k in CTL, m in PCTL, p in Port};#Costo de externalidad unitario del origen i ∈ I al destino j ∈ J utilizando la alternativa de envío a través del par de terminales k ∈ K y m ∈ M al puerto p\n",
    "    \n",
    "    param Wij{i in Origin, j in Destination};#Demanda de carga a enviar del nodo de origen i ∈ I al destino j ∈ J\n",
    "\n",
    "    \n",
    "    # Setting variables\n",
    "    var Yk{k in CTL} binary;  # = 1 if CTL built at k\n",
    "    var Ym{m in PCTL} binary;  # = 1 if CTL built at m\n",
    "    var Ykm{k in CTL, m in PCTL} binary;  # = 1 if Yk*Ym=1\n",
    "    \n",
    "    var Pijp{i in Origin, j in Destination, p in PCTL};#Proporción de flujo de mercancía que se envía directamente del origen i ∈ I al destino j ∈ J por el puerto p\n",
    "    var Pijkp{i in Origin, j in Destination, k in CTL, p in Port};#Proporción de flujo que se envía del origen i ∈ I al destino j ∈ J a través de la terminal k ∈ K al puerto p\n",
    "    var Pijmp{i in Origin, j in Destination, m in PCTL, p in Port};#Proporción de flujo que se envía del origen i ∈ I al destino j ∈ J a través de la terminal m ∈ M al puerto p\n",
    "    var Pijkmp{i in Origin, j in Destination,  k in CTL, m in PCTL, p in Port};#Proporción de flujo que se envía del origen i ∈ I al destino j ∈ J a través de las terminales k ∈ K y m ∈ M al puerto p\n",
    "    \n",
    "    \n",
    "    # Setting Objective Function\n",
    "    \n",
    "    minimize total_cost:\n",
    "        sum {k in CTL} Yk[k]*Fk[k] + sum {m in PCTL} Ym[m]*Fm[m]\n",
    "        + sum {i in Origin, j in Destination, p in PCTL} Pijp[i,j,p]*Wij[i,j]*(Cijp[i,j,p]+Eijp[i,j,p])\n",
    "        + sum {i in Origin, j in Destination, k in PCTL, p in Port} Pijkp[i,j,k,p]*Wij[i,j]*(Cijkp[i,j,k,p]+Cijkp[i,j,k,p])\n",
    "        + sum {i in Origin, j in Destination, m in CTL, p in Port} Pijmp[i,j,m,p]*Wij[i,j]*(Cijmp[i,j,m,p]+Cijmp[i,j,m,p])\n",
    "        + sum {i in Origin, j in Destination, k in CTL, m in PCTL, p in Port} Pijkmp[i,j,k,m,p]*Wij[i,j]*(Cijkmp[i,j,k,m,p]+Eijkmp[i,j,k,m,p])\n",
    "\n",
    "       ;\n",
    "\n",
    "    # Restrictions\n",
    "    subject to chosen_CTL:#que q terminales serán seleccionadas\n",
    "        (sum{k in CTL} Yk[k]) + (sum{m in PCTL} Yk[m]) = q;\n",
    "        \n",
    "    subject to capacity {i in Origin, j in Destination}:#garantiza que el flujo de carga entre los nodos i y j es ruteado a través del envío directo o a través de las terminales que se encuentren disponibles\n",
    "        (sum{p in Port} Pijp[i,j,p]) + (sum{k in CTL,p in Port} Pijkp[i,j,k,p]) + (sum{m in PCTL,p in Port} Pijkp[i,j,m,p]) \n",
    "        + (sum{k in CTL, m in PCTL, p in Port} Pijkmp[i,j,k,m,p]) = 1;\n",
    "        \n",
    "    subject to binary1 {k in CTL, m in PCTL}:#garantizan la resolución del problema de multiplicación de las variables binarias.\n",
    "        Yk[k] + Ym[m] <= 1 + Ykm[k,m];\n",
    "        \n",
    "    subject to binary2 {k in CTL, m in PCTL}:#garantizan la resolución del problema de multiplicación de las variables binarias.\n",
    "        2*Ykm[k,m] <= Yk[k] + Ym[m];\n",
    "    \n",
    "    subject to flow1 {k in CTL}:#garantizan que el flujo de carga que maneja cada terminal es menor o igual a la capacidad instalada\n",
    "        (sum{i in Origin, j in Destination,p in Port} Pijkp[i,j,k,p]*Wij[i,j]) + (sum{i in Origin, j in Destination,  m in PCTL, p in Port} Pijkmp[i,j,k,m,p]*Wij[i,j])  <= CAPk[k]*Yk[k];\n",
    "    subject to flow2 {m in PCTL}:#garantizan que el flujo de carga que maneja cada terminal es menor o igual a la capacidad instalada\n",
    "        (sum{i in Origin, j in Destination,p in Port} Pijmp[i,j,m,p]*Wij[i,j]) + (sum{i in Origin, j in Destination,  k in CTL, p in Port} Pijkmp[i,j,k,m,p]*Wij[i,j])  <= CAPm[m]*Ym[m];\n",
    " \n",
    "            \n",
    "        \"\"\")"
   ]
  }
 ],
 "metadata": {
  "kernelspec": {
   "display_name": "multimodal_logistics_network_colombia",
   "language": "python",
   "name": "python3"
  },
  "language_info": {
   "codemirror_mode": {
    "name": "ipython",
    "version": 3
   },
   "file_extension": ".py",
   "mimetype": "text/x-python",
   "name": "python",
   "nbconvert_exporter": "python",
   "pygments_lexer": "ipython3",
   "version": "3.7.16"
  },
  "orig_nbformat": 4
 },
 "nbformat": 4,
 "nbformat_minor": 2
}
