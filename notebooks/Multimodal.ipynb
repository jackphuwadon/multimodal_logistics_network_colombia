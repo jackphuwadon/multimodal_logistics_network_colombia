{
  "cells": [
    {
      "attachments": {},
      "cell_type": "markdown",
      "metadata": {
        "id": "wQV5x8s1xv0z"
      },
      "source": [
        "### Importación de librerías"
      ]
    },
    {
      "cell_type": "code",
      "execution_count": null,
      "metadata": {
        "colab": {
          "base_uri": "https://localhost:8080/"
        },
        "id": "tAE0hTB_0Amm",
        "outputId": "b7a4ec5d-1e29-4247-b3a1-05733e88d15e"
      },
      "outputs": [
        {
          "name": "stdout",
          "output_type": "stream",
          "text": [
            "Looking in indexes: https://pypi.org/simple, https://us-python.pkg.dev/colab-wheels/public/simple/\n",
            "Requirement already satisfied: pulp in /usr/local/lib/python3.10/dist-packages (2.7.0)\n"
          ]
        }
      ],
      "source": [
        "!pip install pulp"
      ]
    },
    {
      "cell_type": "code",
      "execution_count": null,
      "metadata": {
        "id": "x7XZb7wAxToS"
      },
      "outputs": [],
      "source": [
        "# Tratamiento de datos\n",
        "# ==============================================================================\n",
        "import pandas as pd\n",
        "import numpy as np\n",
        "\n",
        "# Gráficos\n",
        "# ==============================================================================\n",
        "import matplotlib.pyplot as plt\n",
        "from matplotlib import style\n",
        "import seaborn as sns\n",
        "\n",
        "# Liberías de optimización\n",
        "# ==============================================================================\n",
        "from pulp import *\n",
        "\n",
        "# Configuración warnings\n",
        "# ==============================================================================\n",
        "import warnings\n",
        "warnings.filterwarnings('ignore')"
      ]
    },
    {
      "attachments": {},
      "cell_type": "markdown",
      "metadata": {
        "id": "9-5FSpjTpJzw"
      },
      "source": [
        "### Importación de datos"
      ]
    },
    {
      "cell_type": "code",
      "execution_count": null,
      "metadata": {
        "id": "7x1M8dObs2aA"
      },
      "outputs": [],
      "source": [
        "from google.colab import files \n",
        "files.upload()"
      ]
    },
    {
      "cell_type": "code",
      "execution_count": 304,
      "metadata": {
        "id": "UPbC65uGreYv"
      },
      "outputs": [],
      "source": [
        "# DEMANDA\n",
        "demanda = pd.read_excel('/content/Prueba_Data.xlsx', sheet_name='DEMANDA_v2_list')\n",
        "#demanda['DEMANDA'] = demanda['DEMANDA'].astype('int32')\n",
        "\n",
        "# COSTOS FIJOS CTL\n",
        "CTL = pd.read_excel('\n",
        "                    .xlsx', sheet_name='CTL')\n",
        "CTL = CTL[['CTL', 'COSTO_FIJO']]"
      ]
    },
    {
      "attachments": {},
      "cell_type": "markdown",
      "metadata": {
        "id": "v53viXOZJ7pA"
      },
      "source": [
        "Trasformación de datos"
      ]
    },
    {
      "cell_type": "code",
      "execution_count": 305,
      "metadata": {
        "colab": {
          "base_uri": "https://localhost:8080/"
        },
        "id": "yEt_DKhc_XUa",
        "outputId": "c289057b-6120-45a1-f570-f4f01b18de0c"
      },
      "outputs": [
        {
          "name": "stdout",
          "output_type": "stream",
          "text": [
            "{'EU': {'ANT': 162212, 'CAF': 2719, 'CUN': 151305, 'STR': 1077}, 'BRA': {'ANT': 90495, 'CAF': 2069, 'CUN': 158354, 'STR': 951}, 'USA': {'ANT': 702173, 'CAF': 3339, 'CUN': 330204, 'STR': 1799}, 'CA': {'ANT': 87633, 'CAF': 1300, 'CUN': 40380, 'STR': 33736}}\n"
          ]
        }
      ],
      "source": [
        "#Demanda en formato dict\n",
        "\n",
        "origenes = demanda.ORIGEN.unique0.2111111111111111111111111111111111111()\n",
        "destinos = demanda.DESTINO.unique()\n",
        "DEMANDA_DICT = dict()\n",
        "type_dict = 'records'\n",
        "\n",
        "for origen in origenes:\n",
        "  DEMANDA_DICT[origen] = {}\n",
        "  for destino in destinos:\n",
        "    valor = demanda[demanda.ORIGEN.isin([origen]) & demanda.DESTINO.isin([destino])]\n",
        "    valor.reset_index(inplace=True, drop=True)\n",
        "    DEMANDA_DICT[origen][destino] = valor.loc[0, 'DEMANDA']\n",
        "\n",
        "print(DEMANDA_DICT)"
      ]
    },
    {
      "cell_type": "code",
      "execution_count": 306,
      "metadata": {
        "colab": {
          "base_uri": "https://localhost:8080/"
        },
        "id": "HT3vJ2x4EXzC",
        "outputId": "d2dfcb58-2a8d-4f63-d3b9-40aaf91acbfc"
      },
      "outputs": [
        {
          "name": "stdout",
          "output_type": "stream",
          "text": [
            "{'PTB': 42417080, 'PLT': 47970275, 'DOR': 57785605, 'BCJ': 46863315, 'GRA': 47890870}\n"
          ]
        }
      ],
      "source": [
        "# Diccionario de trasbordos\n",
        "\n",
        "trasbordos = CTL.CTL.unique()\n",
        "CTL_DICT = dict()\n",
        "\n",
        "for trasbordo in trasbordos:\n",
        "  valor = CTL[CTL.CTL.isin([trasbordo])]\n",
        "  valor.reset_index(inplace=True, drop=True)\n",
        "  CTL_DICT[trasbordo] = valor.loc[0, 'COSTO_FIJO']\n",
        "\n",
        "print(CTL_DICT)"
      ]
    },
    {
      "cell_type": "code",
      "execution_count": 307,
      "metadata": {
        "id": "SQPMvcvguuIg"
      },
      "outputs": [],
      "source": [
        "# COSTOS DE TRANSPORTE\n",
        "\n",
        "costos = pd.read_excel('/content/Prueba_Data.xlsx', sheet_name='COSTOS')\n",
        "\n",
        "# COSTOS DEL ORIGEN AL PUERTO\n",
        "costos_puertos = costos[costos.Tipo1.isin([\"ORIGEN\"]) & costos.Tipo2.isin([\"PUERTO\"])]\n",
        "costos_puertos = costos_puertos[['Nodo1_cod', 'Nodo2_cod', 'C_TOTAL']]\n",
        "costos_puertos.rename(columns={'Nodo1_cod':'ORIGEN', 'Nodo2_cod':'PUERTO'}, inplace=True)\n",
        "#display(costos_puertos)\n",
        "\n",
        "\n",
        "# COSTOS DEL PUERTO AL PUNTO DE TRASBORDO\n",
        "costos_ptm = costos[costos.Tipo1.isin([\"PUERTO\"]) & costos.Tipo2.isin([\"TRASBORDO\"])]\n",
        "costos_ptm = costos_ptm[['Nodo1_cod', 'Nodo2_cod', 'Modo', 'C_TOTAL']]\n",
        "costos_ptm.rename(columns={'Nodo1_cod':'PUERTO', 'Nodo2_cod':'TRASBORDO', 'Modo':'MODO'}, inplace=True)\n",
        "costos_ptm.reset_index(inplace=True, drop=True)\n",
        "costos_ptm['C_TOTAL'] = costos_ptm['C_TOTAL'].astype('int32')\n",
        "#display(costos_ptm)\n",
        "\n",
        "\n",
        "# COSTOS DEL PUNTO DE TRASBORDO AL DESTINO\n",
        "\n",
        "costos_tj = costos[costos.Tipo1.isin([\"TRASBORDO\"]) & costos.Tipo2.isin([\"DESTINO\"])]\n",
        "costos_tj = costos_tj[['Nodo1_cod', 'Nodo2_cod', 'C_TOTAL']]\n",
        "costos_tj.rename(columns={'Nodo1_cod':'TRASBORDO', 'Nodo2_cod':'DESTINO'}, inplace=True)\n",
        "costos_tj.reset_index(inplace=True, drop=True)\n",
        "#costos_tj"
      ]
    },
    {
      "cell_type": "code",
      "execution_count": 308,
      "metadata": {
        "colab": {
          "base_uri": "https://localhost:8080/"
        },
        "id": "N-TjIc0yK1-l",
        "outputId": "26fcc726-9a7a-45f9-d161-bdd89e84cc10"
      },
      "outputs": [
        {
          "name": "stdout",
          "output_type": "stream",
          "text": [
            "{'CA': {'CTG': 563.88, 'BAQ': 628.32, 'STM': 796.18}, 'USA': {'CTG': 1010.92, 'BAQ': 1008.48, 'STM': 1237.04}, 'EU': {'CTG': 4672.8, 'BAQ': 4865.76, 'STM': 5271.36}, 'BRA': {'CTG': 3881.12, 'BAQ': 3960.0, 'STM': 4162.68}}\n"
          ]
        }
      ],
      "source": [
        "# Costos del origen al puerto en formato dict\n",
        "\n",
        "origenes = costos_puertos.ORIGEN.unique()\n",
        "destinos = costos_puertos.PUERTO.unique()\n",
        "CP_DICT = dict()\n",
        "type_dict = 'records'\n",
        "\n",
        "for origen in origenes:\n",
        "  CP_DICT[origen] = {}\n",
        "  for destino in destinos:\n",
        "    valor = costos_puertos[costos_puertos.ORIGEN.isin([origen]) & costos_puertos.PUERTO.isin([destino])]\n",
        "    valor.reset_index(inplace=True, drop=True)\n",
        "    CP_DICT[origen][destino] = valor.loc[0, 'C_TOTAL']\n",
        "\n",
        "print(CP_DICT)"
      ]
    },
    {
      "cell_type": "code",
      "execution_count": 309,
      "metadata": {
        "colab": {
          "base_uri": "https://localhost:8080/"
        },
        "id": "F80kgQAIL3G7",
        "outputId": "5aa7ee6b-9a3a-47f1-e977-3032bc9351fd"
      },
      "outputs": [
        {
          "name": "stdout",
          "output_type": "stream",
          "text": [
            "{'CTG': {'PTB': {'CARRETERO': 1191, 'FLUVIAL': 691, 'FERREO': 530}, 'PLT': {'CARRETERO': 324, 'FLUVIAL': 189, 'FERREO': 1000000000}, 'DOR': {'CARRETERO': 1552, 'FLUVIAL': 823, 'FERREO': 631}, 'BCJ': {'CARRETERO': 1180, 'FLUVIAL': 594, 'FERREO': 494}, 'GRA': {'CARRETERO': 879, 'FLUVIAL': 453, 'FERREO': 335}}, 'BAQ': {'PTB': {'CARRETERO': 1251, 'FLUVIAL': 664, 'FERREO': 455}, 'PLT': {'CARRETERO': 392, 'FLUVIAL': 162, 'FERREO': 1000000000}, 'DOR': {'CARRETERO': 1456, 'FLUVIAL': 796, 'FERREO': 561}, 'BCJ': {'CARRETERO': 1080, 'FLUVIAL': 576, 'FERREO': 425}, 'GRA': {'CARRETERO': 786, 'FLUVIAL': 427, 'FERREO': 264}}, 'STM': {'PTB': {'CARRETERO': 1161, 'FLUVIAL': 708, 'FERREO': 412}, 'PLT': {'CARRETERO': 441, 'FLUVIAL': 206, 'FERREO': 10000}, 'DOR': {'CARRETERO': 1395, 'FLUVIAL': 840, 'FERREO': 514}, 'BCJ': {'CARRETERO': 1021, 'FLUVIAL': 620, 'FERREO': 380}, 'GRA': {'CARRETERO': 724, 'FLUVIAL': 473, 'FERREO': 220}}}\n"
          ]
        }
      ],
      "source": [
        "# Costos del puerto al trasbordo en formato dict\n",
        "\n",
        "origenes = costos_ptm.PUERTO.unique()\n",
        "destinos = costos_ptm.TRASBORDO.unique()\n",
        "modos = costos_ptm.MODO.unique()\n",
        "CPTM_DICT = dict()\n",
        "type_dict = 'records'\n",
        "\n",
        "for origen in origenes:\n",
        "  CPTM_DICT[origen] = {}\n",
        "  for destino in destinos:\n",
        "    CPTM_DICT[origen][destino] = {}\n",
        "    for modo in modos:\n",
        "      valor = costos_ptm[costos_ptm.PUERTO.isin([origen]) & costos_ptm.TRASBORDO.isin([destino]) & costos_ptm.MODO.isin([modo])]\n",
        "      valor.reset_index(inplace=True, drop=True)\n",
        "      CPTM_DICT[origen][destino][modo] = valor.loc[0, 'C_TOTAL']\n",
        "\n",
        "print(CPTM_DICT)"
      ]
    },
    {
      "cell_type": "code",
      "execution_count": 310,
      "metadata": {
        "colab": {
          "base_uri": "https://localhost:8080/"
        },
        "id": "ql_E7f9Cierr",
        "outputId": "60978590-fb61-466a-d1f4-dce389446cc2"
      },
      "outputs": [
        {
          "name": "stdout",
          "output_type": "stream",
          "text": [
            "{'PTB': {'ANT': 340.38, 'CAF': 732.4, 'CUN': 615.74, 'STR': 382.41}, 'PLT': {'ANT': 1032.98, 'CAF': 1628.43, 'CUN': 1619.13, 'STR': 887.91}, 'DOR': {'ANT': 470.25, 'CAF': 439.53, 'CUN': 359.29, 'STR': 622.54}, 'BCJ': {'ANT': 546.3, 'CAF': 882.49, 'CUN': 730.21, 'STR': 235.32}, 'GRA': {'ANT': 869.28, 'CAF': 1182.06, 'CUN': 1038.78, 'STR': 359.29}}\n"
          ]
        }
      ],
      "source": [
        "# Costos del punto de trasbordo al destino en formato dict\n",
        "\n",
        "origenes = costos_tj.TRASBORDO.unique()\n",
        "destinos = costos_tj.DESTINO.unique()\n",
        "CTJ_DICT = dict()\n",
        "type_dict = 'records'\n",
        "\n",
        "for origen in origenes:\n",
        "  CTJ_DICT[origen] = {}\n",
        "  for destino in destinos:\n",
        "    valor = costos_tj[costos_tj.TRASBORDO.isin([origen]) & costos_tj.DESTINO.isin([destino])]\n",
        "    valor.reset_index(inplace=True, drop=True)\n",
        "    CTJ_DICT[origen][destino] = valor.loc[0, 'C_TOTAL']\n",
        "\n",
        "print(CTJ_DICT)"
      ]
    },
    {
      "cell_type": "code",
      "execution_count": 312,
      "metadata": {
        "id": "5XhaEZ7epKbo"
      },
      "outputs": [],
      "source": [
        "# Datos del problema\n",
        "\n",
        "#origenes = [\"MEX\", \"PAN\", \"USA\", \"DEU\", \"ESP\", \"BRA\"]  # Nodos de origen\n",
        "origenes = [\"EU\", \"BRA\", \"USA\", \"CA\"]  # Nodos de origen\n",
        "#destinos = [\"MED\", \"MNZ\", \"PER\", \"IBG\", \"NEV\", \"BOG\", \"BUG\"]  # Nodos de destino\n",
        "destinos = [\"ANT\", \"CAF\", \"CUN\", \"STR\"]  # Nodos de destino\n",
        "puertos = [\"CTG\", \"BAQ\", \"STM\"]  # Nodos puertos\n",
        "trasbordos = [\"PLT\", \"PTB\", \"DOR\", \"BCJ\", \"GRA\"]  # Nodos puntos de trasbordo\n",
        "modos = [\"CARRETERO\", \"FLUVIAL\", \"FERREO\"] # Modos de transporte\n",
        "\n",
        "# DEFINICIÓN DE PARÁMETROS\n",
        "\n",
        "demanda = DEMANDA_DICT\n",
        "\n",
        "capacidad_puerto = {\"CTG\": 10000000,\"BAQ\": 10000000,\"STM\": 10000000}\n",
        "\n",
        "capacidad_trasbordo = {\"PLT\": 10000000, \n",
        "                       \"PTB\": 10000000, \n",
        "                       \"DOR\": 10000000, \n",
        "                       \"BCJ\": 10000000, \n",
        "                       \"GRA\": 10000000}\n",
        "\n",
        "costo_origen_puerto = CP_DICT\n",
        "\n",
        "costo_puerto_trasbordo = CPTM_DICT\n",
        "\n",
        "costo_trasbordo_destino = CTJ_DICT\n",
        "\n",
        "costo_fijo_trasbordo = CTL_DICT\n",
        "\n"
      ]
    },
    {
      "attachments": {},
      "cell_type": "markdown",
      "metadata": {
        "id": "t62X2qQnzgzS"
      },
      "source": [
        "### Modelo de optimización para la localización de puntos de trasbordo"
      ]
    },
    {
      "cell_type": "code",
      "execution_count": 318,
      "metadata": {
        "colab": {
          "base_uri": "https://localhost:8080/"
        },
        "id": "CqgLYDEg0d94",
        "outputId": "0fcfc3bb-306b-4c86-d33f-1ddfc74122d4"
      },
      "outputs": [
        {
          "data": {
            "text/plain": [
              "1"
            ]
          },
          "execution_count": 318,
          "metadata": {},
          "output_type": "execute_result"
        }
      ],
      "source": [
        "# Variables\n",
        "#x = {(i, j, p, t, m): 0 for i in origenes for j in destinos for p in puertos for t in trasbordos for m in modos}\n",
        "x = LpVariable.dicts('Flujo', (origenes, destinos, puertos, trasbordos, modos),0)\n",
        "\n",
        "#x = LpVariable.dicts('x', (origenes, destinos, puertos, trasbordos, modos), 0, None, LpContinuous)\n",
        "\n",
        "# Variable de decisión\n",
        "#y = LpVariable.dicts('y', (trasbordos), 0, 1, LpBinary)\n",
        "\n",
        "y = LpVariable.dicts('y', (trasbordos), lowBound = 0, upBound = 1, cat='Integer')\n",
        "\n",
        "# Model\n",
        "model = LpProblem(\"Localizacion de puntos de trasbordo\", LpMinimize)\n",
        "'''\n",
        "# Objective function\n",
        "model += lpSum(costo_origen_puerto[i][p]* x[i, j, p, t, m] + \n",
        "               costo_puerto_trasbordo[p][t][m]*x[i, j, p, t, m]  + \n",
        "               costo_trasbordo_destino[t][j]*x[i, j, p, t, m] + \n",
        "               costo_fijo_trasbordo[t]*y[t] for i in origenes for j in destinos for p in puertos for t in trasbordos for m in modos)\n",
        "\n",
        "model += lpSum(costo_origen_puerto[i][p]* x[i][j][p][t][m] + \n",
        "               costo_puerto_trasbordo[p][t][m]*x[i][j][p][t][m] + \n",
        "               costo_trasbordo_destino[t][j]*x[i][j][p][t][m] + \n",
        "               costo_fijo_trasbordo[t]*y[t] for i in origenes for j in destinos for p in puertos for t in trasbordos for m in modos)\n",
        "'''\n",
        "CT = lpSum(costo_origen_puerto[i][p]* x[i][j][p][t][m] + \n",
        "           costo_puerto_trasbordo[p][t][m]*x[i][j][p][t][m] + \n",
        "           costo_trasbordo_destino[t][j]*x[i][j][p][t][m] +\n",
        "           costo_fijo_trasbordo[t]*y[t] for i in origenes for j in destinos for p in puertos for t in trasbordos for m in modos)\n",
        "#CF = lpSum(costo_fijo_trasbordo[t]*y[t] for t in trasbordos)\n",
        "\n",
        "model += CT\n",
        "\n",
        "# Constraints\n",
        "'''\n",
        "# Restricciones de capacidad en los puertos\n",
        "for p in puertos:\n",
        "    model += lpSum(x[i, j, p, t, m] for i in origenes for j in destinos for t in trasbordos for m in modos) <= capacidad_puerto[p]\n",
        "\n",
        "# Restricciones de capacidad en los trasbordos\n",
        "for t in trasbordos:\n",
        "    model += lpSum(x[i, j, p, t, m] for i in origenes for j in destinos for p in puertos for m in modos) <= capacidad_trasbordo[t]\n",
        "\n",
        "# Restricciones de demanda satisfecha\n",
        "for i in origenes:\n",
        "    for j in destinos:\n",
        "        model += lpSum(x[i, j, p, t, m] for p in puertos for t in trasbordos for m in modos) == demanda[i][j]\n",
        "'''\n",
        "\n",
        "\n",
        "# Restricciones de capacidad en los puertos\n",
        "for p in puertos:\n",
        "    model += lpSum(x[i][j][p][t][m] for i in origenes for j in destinos for t in trasbordos for m in modos) <= capacidad_puerto[p]\n",
        "\n",
        "# Restricciones de capacidad en los trasbordos\n",
        "for t in trasbordos:\n",
        "    model += lpSum(x[i][j][p][t][m] for i in origenes for j in destinos for p in puertos for m in modos) <= capacidad_trasbordo[t]*y[t]\n",
        "\n",
        "# Restricciones de demanda satisfecha\n",
        "for i in origenes:\n",
        "    for j in destinos:\n",
        "        model += lpSum(x[i][j][p][t][m] for p in puertos for t in trasbordos for m in modos) == demanda[i][j]\n",
        "\n",
        "#for j in destinos:\n",
        "model += lpSum(y[t] for t in trasbordos) == 2\n",
        "\n",
        "# Solve\n",
        "model.solve()"
      ]
    },
    {
      "attachments": {},
      "cell_type": "markdown",
      "metadata": {
        "id": "uHgL5lRwzd9j"
      },
      "source": [
        "### Prueba NO MODIFICAR"
      ]
    },
    {
      "cell_type": "code",
      "execution_count": null,
      "metadata": {
        "id": "gPiYXDWU0Hee"
      },
      "outputs": [],
      "source": [
        "# Datos del problema # Parameters\n",
        "origenes = ['O1', 'O2', 'O3']  # Nodos de origen\n",
        "destinos = ['D1', 'D2', 'D3']  # Nodos de destino\n",
        "puertos = ['P1', 'P2', 'P3']  # Nodos puertos\n",
        "trasbordos = ['T1', 'T2', 'T3']  # Nodos puntos de trasbordo\n",
        "modos = ['carretero', 'ferreo', 'fluvial']\n",
        "\n",
        "demanda = {'O1': {'D1': 10, 'D2': 15, 'D3': 20},\n",
        "           'O2': {'D1': 5, 'D2': 8, 'D3': 12},\n",
        "           'O3': {'D1': 7, 'D2': 10, 'D3': 15}}\n",
        "\n",
        "capacidad_puerto = {'P1': 50,'P2': 50,'P3': 50}\n",
        "\n",
        "capacidad_trasbordo = {'T1': 10000,'T2': 10000, 'T3': 10000}\n",
        "\n",
        "costo_origen_puerto = {'O1': {'P1': 10, 'P2': 15, 'P3': 12},\n",
        "                       'O2': {'P1': 8, 'P2': 11, 'P3': 9},\n",
        "                       'O3': {'P1': 12, 'P2': 10, 'P3': 14}}\n",
        "\n",
        "costo_puerto_trasbordo = {\n",
        "    'P1': {'T1': {'carretero': 6, 'ferreo': 7, 'fluvial': 8}, 'T2': {'carretero': 5, 'ferreo': 6, 'fluvial': 7},'T3': {'carretero': 5, 'ferreo': 6, 'fluvial': 7}},\n",
        "    'P2': {'T1': {'carretero': 8, 'ferreo': 9, 'fluvial': 10}, 'T2': {'carretero': 7, 'ferreo': 8, 'fluvial': 9}, 'T3': {'carretero': 5, 'ferreo': 6, 'fluvial': 7}},\n",
        "    'P3': {'T1': {'carretero': 9, 'ferreo': 10, 'fluvial': 11}, 'T2': {'carretero': 10, 'ferreo': 11, 'fluvial': 12}, 'T3': {'carretero': 5, 'ferreo': 6, 'fluvial': 7}}\n",
        "}\n",
        "\n",
        "\n",
        "costo_trasbordo_destino = {\n",
        "    'T1': {'D1': 9, 'D2': 12, 'D3': 11},\n",
        "    'T2': {'D1': 8, 'D2': 10, 'D3': 13},\n",
        "    'T3': {'D1': 5, 'D2': 13, 'D3': 10}\n",
        "}\n",
        "\n",
        "costo_fijo_trasbordo = {\n",
        "    'T1': 95,\n",
        "    'T2': 100,\n",
        "    'T3': 100\n",
        "}"
      ]
    },
    {
      "cell_type": "code",
      "execution_count": null,
      "metadata": {
        "id": "vhqpWqsoWd8T"
      },
      "outputs": [],
      "source": [
        "# CONJUNTO DE NODOS\n",
        "\n",
        "origenes = [\"MEX\", \"PAN\", \"USA\", \"DEU\", \"ESP\", \"BRA\"]  # Nodos de origen\n",
        "destinos = [\"MED\", \"MNZ\", \"PER\", \"IBG\", \"NEV\", \"BOG\", \"BUG\"]  # Nodos de destino\n",
        "puertos = [\"CTG\", \"BAQ\", \"STM\"]  # Nodos puertos\n",
        "trasbordos = [\"PLT\", \"PTB\", \"DOR\", \"BCJ\", \"GRA\"]  # Nodos puntos de trasbordo\n",
        "modos = [\"CARRETERO\", \"FLUVIAL\", \"FERREO\"] # Modos de transporte\n",
        "\n",
        "# DEFINICIÓN DE PARÁMETROS\n",
        "\n",
        "demanda = {'MEX': {'MED': 87632.238, 'MNZ': 342, 'PER': 40379, 'IBG': , 'NEV': 20, 'BOG': 20, 'BUG': 20},\n",
        "           'PAN': {'MED': 10, 'MNZ': 15, 'PER': 20, 'IBG': 20, 'NEV': 20, 'BOG': 20, 'BUG': 20},\n",
        "           'USA': {'MED': 10, 'MNZ': 15, 'PER': 20, 'IBG': 20, 'NEV': 20, 'BOG': 20, 'BUG': 20},\n",
        "           'DEU': {'MED': 10, 'MNZ': 15, 'PER': 20, 'IBG': 20, 'NEV': 20, 'BOG': 20, 'BUG': 20},\n",
        "           'ESP': {'MED': 10, 'MNZ': 15, 'PER': 20, 'IBG': 20, 'NEV': 20, 'BOG': 20, 'BUG': 20},\n",
        "           'BRA': {'MED': 10, 'MNZ': 15, 'PER': 20, 'IBG': 20, 'NEV': 20, 'BOG': 20, 'BUG': 20}}\n",
        "\n",
        "capacidad_puerto = {\"CTG\": 10000000,\"BAQ\": 10000000,\"STM\": 10000000}\n",
        "\n",
        "capacidad_trasbordo = {\"PLT\": 10000000, \n",
        "                       \"PTB\": 10000000, \n",
        "                       \"DOR\": 10000000, \n",
        "                       \"BCJ\": 10000000, \n",
        "                       \"GRA\": 10000000}\n",
        "\n",
        "costo_origen_puerto = {'MEX': {'CTG': 10, 'BAQ': 15, 'STM': 12},\n",
        "                       'PAN': {'CTG': 8, 'BAQ': 11, 'STM': 9},\n",
        "                       'USA': {'CTG': 12, 'BAQ': 10, 'STM': 14},\n",
        "                       'DEU': {'CTG': 10, 'BAQ': 15, 'STM': 12},\n",
        "                       'ESP': {'CTG': 8, 'BAQ': 11, 'STM': 9},\n",
        "                       'BRA': {'CTG': 12, 'BAQ': 10, 'STM': 14}}\n",
        "\n",
        "costo_puerto_trasbordo = {\n",
        "    'CTG': {'PLT': {'carretero': 6, 'ferreo': 7, 'fluvial': 8}, 'PTB': {'carretero': 5, 'ferreo': 6, 'fluvial': 7},'DOR': {'carretero': 5, 'ferreo': 6, 'fluvial': 7}, 'BCJ': {'carretero': 5, 'ferreo': 6, 'fluvial': 7}, 'GRA': {'carretero': 5, 'ferreo': 6, 'fluvial': 7}},\n",
        "    'BAQ': {'PLT': {'carretero': 8, 'ferreo': 9, 'fluvial': 10}, 'PTB': {'carretero': 7, 'ferreo': 8, 'fluvial': 9}, 'DOR': {'carretero': 5, 'ferreo': 6, 'fluvial': 7}}, 'BCJ': {'carretero': 5, 'ferreo': 6, 'fluvial': 7}, 'GRA': {'carretero': 5, 'ferreo': 6, 'fluvial': 7},\n",
        "    'STM': {'PLT': {'carretero': 9, 'ferreo': 10, 'fluvial': 11}, 'PTB': {'carretero': 10, 'ferreo': 11, 'fluvial': 12}, 'DOR': {'carretero': 5, 'ferreo': 6, 'fluvial': 7}, 'BCJ': {'carretero': 5, 'ferreo': 6, 'fluvial': 7}, 'GRA': {'carretero': 5, 'ferreo': 6, 'fluvial': 7}}\n",
        "}\n",
        "\n",
        "\n",
        "costo_trasbordo_destino = {\n",
        "    'PLT': {'MED': 10, 'MNZ': 15, 'PER': 20, 'IBG': 20, 'NEV': 20, 'BOG': 20, 'BUG': 20},\n",
        "    'PTB': {'MED': 10, 'MNZ': 15, 'PER': 20, 'IBG': 20, 'NEV': 20, 'BOG': 20, 'BUG': 20},\n",
        "    'DOR': {'MED': 10, 'MNZ': 15, 'PER': 20, 'IBG': 20, 'NEV': 20, 'BOG': 20, 'BUG': 20},\n",
        "    'BCJ': {'MED': 10, 'MNZ': 15, 'PER': 20, 'IBG': 20, 'NEV': 20, 'BOG': 20, 'BUG': 20},\n",
        "    'GRA': {'MED': 10, 'MNZ': 15, 'PER': 20, 'IBG': 20, 'NEV': 20, 'BOG': 20, 'BUG': 20}\n",
        "}\n",
        "\n",
        "costo_fijo_trasbordo = {\"PLT\": 10000000,\n",
        "                        \"PTB\": 10000000, \n",
        "                        \"DOR\": 10000000, \n",
        "                        \"BCJ\": 10000000, \n",
        "                        \"GRA\": 10000000}"
      ]
    },
    {
      "cell_type": "code",
      "execution_count": null,
      "metadata": {
        "id": "fNsMR9ct08Qj"
      },
      "outputs": [],
      "source": [
        "# Variables\n",
        "#x = {(i, j, p, t, m): 0 for i in origenes for j in destinos for p in puertos for t in trasbordos for m in modos}\n",
        "x = LpVariable.dicts('Flujo', (origenes, destinos, puertos, trasbordos, modos),0)\n",
        "\n",
        "#x = LpVariable.dicts('x', (origenes, destinos, puertos, trasbordos, modos), 0, None, LpContinuous)\n",
        "\n",
        "# Variable de decisión\n",
        "#y = LpVariable.dicts('y', (trasbordos), 0, 1, LpBinary)\n",
        "\n",
        "y = LpVariable.dicts('y', (trasbordos), lowBound = 0, upBound = 1, cat='Integer')\n",
        "\n",
        "# Model\n",
        "model = LpProblem(\"Localizacion de puntos de trasbordo\", LpMinimize)\n",
        "'''\n",
        "# Objective function\n",
        "model += lpSum(costo_origen_puerto[i][p]* x[i, j, p, t, m] + \n",
        "               costo_puerto_trasbordo[p][t][m]*x[i, j, p, t, m]  + \n",
        "               costo_trasbordo_destino[t][j]*x[i, j, p, t, m] + \n",
        "               costo_fijo_trasbordo[t]*y[t] for i in origenes for j in destinos for p in puertos for t in trasbordos for m in modos)\n",
        "\n",
        "model += lpSum(costo_origen_puerto[i][p]* x[i][j][p][t][m] + \n",
        "               costo_puerto_trasbordo[p][t][m]*x[i][j][p][t][m] + \n",
        "               costo_trasbordo_destino[t][j]*x[i][j][p][t][m] + \n",
        "               costo_fijo_trasbordo[t]*y[t] for i in origenes for j in destinos for p in puertos for t in trasbordos for m in modos)\n",
        "'''\n",
        "CT = lpSum(costo_origen_puerto[i][p]* x[i][j][p][t][m] + \n",
        "           costo_puerto_trasbordo[p][t][m]*x[i][j][p][t][m] + \n",
        "           costo_trasbordo_destino[t][j]*x[i][j][p][t][m] +\n",
        "           costo_fijo_trasbordo[t]*y[t] for i in origenes for j in destinos for p in puertos for t in trasbordos for m in modos)\n",
        "#CF = lpSum(costo_fijo_trasbordo[t]*y[t] for t in trasbordos)\n",
        "\n",
        "model += CT\n",
        "\n",
        "# Constraints\n",
        "'''\n",
        "# Restricciones de capacidad en los puertos\n",
        "for p in puertos:\n",
        "    model += lpSum(x[i, j, p, t, m] for i in origenes for j in destinos for t in trasbordos for m in modos) <= capacidad_puerto[p]\n",
        "\n",
        "# Restricciones de capacidad en los trasbordos\n",
        "for t in trasbordos:\n",
        "    model += lpSum(x[i, j, p, t, m] for i in origenes for j in destinos for p in puertos for m in modos) <= capacidad_trasbordo[t]\n",
        "\n",
        "# Restricciones de demanda satisfecha\n",
        "for i in origenes:\n",
        "    for j in destinos:\n",
        "        model += lpSum(x[i, j, p, t, m] for p in puertos for t in trasbordos for m in modos) == demanda[i][j]\n",
        "'''\n",
        "\n",
        "\n",
        "# Restricciones de capacidad en los puertos\n",
        "for p in puertos:\n",
        "    model += lpSum(x[i][j][p][t][m] for i in origenes for j in destinos for t in trasbordos for m in modos) <= capacidad_puerto[p]\n",
        "\n",
        "# Restricciones de capacidad en los trasbordos\n",
        "for t in trasbordos:\n",
        "    model += lpSum(x[i][j][p][t][m] for i in origenes for j in destinos for p in puertos for m in modos) <= capacidad_trasbordo[t]*y[t]\n",
        "\n",
        "# Restricciones de demanda satisfecha\n",
        "for i in origenes:\n",
        "    for j in destinos:\n",
        "        model += lpSum(x[i][j][p][t][m] for p in puertos for t in trasbordos for m in modos) == demanda[i][j]\n",
        "\n",
        "#for j in destinos:\n",
        "model += lpSum(y[t] for t in trasbordos) == 3\n",
        "\n",
        "# Solve\n",
        "model.solve()\n"
      ]
    },
    {
      "attachments": {},
      "cell_type": "markdown",
      "metadata": {
        "id": "dIP08Ynj0ifn"
      },
      "source": [
        "### Solver"
      ]
    },
    {
      "cell_type": "code",
      "execution_count": 319,
      "metadata": {
        "colab": {
          "base_uri": "https://localhost:8080/"
        },
        "id": "MDM38UdH853b",
        "outputId": "df61c8fe-4523-4de4-d9c0-81e24946fad8"
      },
      "outputs": [
        {
          "name": "stdout",
          "output_type": "stream",
          "text": [
            "Status: Optimal\n"
          ]
        }
      ],
      "source": [
        "print(\"Status:\", LpStatus[model.status])"
      ]
    },
    {
      "cell_type": "code",
      "execution_count": 320,
      "metadata": {
        "colab": {
          "base_uri": "https://localhost:8080/"
        },
        "id": "58daNQoG9Tbt",
        "outputId": "e0ae8bbc-38af-4c48-c76c-732a929336c0"
      },
      "outputs": [
        {
          "name": "stdout",
          "output_type": "stream",
          "text": [
            "18101642036.28\n"
          ]
        }
      ],
      "source": [
        "valor = model.objective.value()\n",
        "print (valor)"
      ]
    },
    {
      "cell_type": "code",
      "execution_count": 321,
      "metadata": {
        "colab": {
          "base_uri": "https://localhost:8080/"
        },
        "id": "kegHar2i_mCr",
        "outputId": "15cfa2de-ef7f-4086-f1c2-7a6c6e33d0ed"
      },
      "outputs": [
        {
          "name": "stdout",
          "output_type": "stream",
          "text": [
            "Costo total:  18101642036.28\n",
            "-------------------------------------------------\n",
            "Trasbordo:  PLT  Costo fijo:  47970275  Seleccionado:  0.0\n",
            "Trasbordo:  PTB  Costo fijo:  42417080  Seleccionado:  1.0\n",
            "Trasbordo:  DOR  Costo fijo:  57785605  Seleccionado:  0.0\n",
            "Trasbordo:  BCJ  Costo fijo:  46863315  Seleccionado:  1.0\n",
            "Trasbordo:  GRA  Costo fijo:  47890870  Seleccionado:  0.0\n",
            "-------------------------------------------------\n",
            "Origen:  EU  Destino:  ANT  Puerto:  CTG  Trasbordo:  PTB  Modo de transporte:  FERREO  Cantidad:  162212.0\n",
            "Origen:  EU  Destino:  CAF  Puerto:  CTG  Trasbordo:  PTB  Modo de transporte:  FERREO  Cantidad:  2719.0\n",
            "Origen:  EU  Destino:  CUN  Puerto:  CTG  Trasbordo:  PTB  Modo de transporte:  FERREO  Cantidad:  151305.0\n",
            "Origen:  EU  Destino:  STR  Puerto:  CTG  Trasbordo:  BCJ  Modo de transporte:  FERREO  Cantidad:  1077.0\n",
            "Origen:  BRA  Destino:  ANT  Puerto:  CTG  Trasbordo:  PTB  Modo de transporte:  FERREO  Cantidad:  90495.0\n",
            "Origen:  BRA  Destino:  CAF  Puerto:  CTG  Trasbordo:  PTB  Modo de transporte:  FERREO  Cantidad:  2069.0\n",
            "Origen:  BRA  Destino:  CUN  Puerto:  CTG  Trasbordo:  PTB  Modo de transporte:  FERREO  Cantidad:  158354.0\n",
            "Origen:  BRA  Destino:  STR  Puerto:  CTG  Trasbordo:  BCJ  Modo de transporte:  FERREO  Cantidad:  951.0\n",
            "Origen:  USA  Destino:  ANT  Puerto:  BAQ  Trasbordo:  PTB  Modo de transporte:  FERREO  Cantidad:  702173.0\n",
            "Origen:  USA  Destino:  CAF  Puerto:  BAQ  Trasbordo:  PTB  Modo de transporte:  FERREO  Cantidad:  3339.0\n",
            "Origen:  USA  Destino:  CUN  Puerto:  BAQ  Trasbordo:  PTB  Modo de transporte:  FERREO  Cantidad:  330204.0\n",
            "Origen:  USA  Destino:  STR  Puerto:  BAQ  Trasbordo:  BCJ  Modo de transporte:  FERREO  Cantidad:  1799.0\n",
            "Origen:  CA  Destino:  ANT  Puerto:  BAQ  Trasbordo:  PTB  Modo de transporte:  FERREO  Cantidad:  87633.0\n",
            "Origen:  CA  Destino:  CAF  Puerto:  BAQ  Trasbordo:  PTB  Modo de transporte:  FERREO  Cantidad:  1300.0\n",
            "Origen:  CA  Destino:  CUN  Puerto:  BAQ  Trasbordo:  PTB  Modo de transporte:  FERREO  Cantidad:  40380.0\n",
            "Origen:  CA  Destino:  STR  Puerto:  BAQ  Trasbordo:  BCJ  Modo de transporte:  FERREO  Cantidad:  33736.0\n"
          ]
        }
      ],
      "source": [
        "# Print results\n",
        "print(\"Costo total: \", value(model.objective))\n",
        "print(\"-------------------------------------------------\")\n",
        "for t in trasbordos:\n",
        "        print(\"Trasbordo: \", t, \" Costo fijo: \", costo_fijo_trasbordo[t], \" Seleccionado: \", y[t].value())\n",
        "print(\"-------------------------------------------------\")\n",
        "for i in origenes:\n",
        "    for j in destinos:\n",
        "        for p in puertos:\n",
        "            for t in trasbordos:\n",
        "                for m in modos:\n",
        "                  if x[i][j][p][t][m].value() > 0:\n",
        "                    print(\"Origen: \", i, \" Destino: \", j, \" Puerto: \", p, \" Trasbordo: \", t, \" Modo de transporte: \", m, \" Cantidad: \", x[i][j][p][t][m].value())\n"
      ]
    }
  ],
  "metadata": {
    "colab": {
      "collapsed_sections": [
        "uHgL5lRwzd9j"
      ],
      "provenance": []
    },
    "kernelspec": {
      "display_name": "Python 3",
      "name": "python3"
    },
    "language_info": {
      "name": "python"
    }
  },
  "nbformat": 4,
  "nbformat_minor": 0
}
