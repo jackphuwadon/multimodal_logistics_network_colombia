{
 "cells": [
  {
   "attachments": {},
   "cell_type": "markdown",
   "metadata": {},
   "source": [
    "## Creando inputs para el modelo AMPL a partir de archivo csv: Archivo .dat"
   ]
  },
  {
   "attachments": {},
   "cell_type": "markdown",
   "metadata": {},
   "source": [
    "En este cuadernillo se desarrolla el código para insertar los distintos parámetros al modelo. En vista de su practicidad, se decidió insertar los datos usando objetos de pandas creados con un archivo csv"
   ]
  }
 ],
 "metadata": {
  "language_info": {
   "name": "python"
  },
  "orig_nbformat": 4
 },
 "nbformat": 4,
 "nbformat_minor": 2
}
