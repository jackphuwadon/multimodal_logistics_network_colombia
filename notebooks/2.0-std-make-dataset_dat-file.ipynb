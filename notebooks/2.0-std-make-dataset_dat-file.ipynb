{
 "cells": [
  {
   "attachments": {},
   "cell_type": "markdown",
   "metadata": {},
   "source": [
    "## Creando inputs para el modelo AMPL a partir de archivo csv: Archivo .dat"
   ]
  },
  {
   "attachments": {},
   "cell_type": "markdown",
   "metadata": {},
   "source": [
    "En este cuadernillo se desarrolla el código para insertar los distintos parámetros al modelo. En vista de su practicidad, se decidió insertar los datos usando objetos de pandas creados con un archivo csv"
   ]
  },
  {
   "cell_type": "code",
   "execution_count": 24,
   "metadata": {},
   "outputs": [
    {
     "name": "stderr",
     "output_type": "stream",
     "text": [
      "/home/storreglosa/anaconda3/envs/multimodal_logistics_network_colombia/lib/python3.7/site-packages/pandas/core/indexing.py:925: PerformanceWarning: indexing past lexsort depth may impact performance.\n",
      "  return self._getitem_tuple(key)\n"
     ]
    },
    {
     "data": {
      "text/plain": [
       "code_inicio          code_fin\n",
       "puerto_de_cartagena  mexico      27714.933333\n",
       "Name: transport_cost, dtype: float64"
      ]
     },
     "execution_count": 24,
     "metadata": {},
     "output_type": "execute_result"
    }
   ],
   "source": [
    "# Leemos los conjuntos\n",
    "import pandas as pd\n",
    "import numpy as np\n",
    "import sys\n",
    "import os\n",
    "\n",
    "\n",
    "Origin = pd.DataFrame([\n",
    "    ('manizales'),\n",
    "    ('medellin'),\n",
    "    ('bucaramanga'),\n",
    "    ('bogota'),\n",
    "    ('ibague'),\n",
    "    ('neival'),\n",
    "    ('soacha'),\n",
    "    ('pereira'),\n",
    "    ],\n",
    "    columns=[\"Origin\"],).set_index(\"Origin\")\n",
    "\n",
    "Destination = pd.DataFrame([\n",
    "    ('españa'),\n",
    "    ('alemania'),\n",
    "    ('brazil'),\n",
    "    ('panama'),\n",
    "    ('mexico'),\n",
    "    ('estados_unidos'),\n",
    "    ],\n",
    "    columns=[\"Destination\"],).set_index(\"Destination\")\n",
    "\n",
    "\n",
    "CTL = pd.DataFrame([\n",
    "    ('ctl_bogota'),\n",
    "    ('ctl_pereira'),\n",
    "    ('ctl_manizales'),\n",
    "    ('ctl_soacha'),\n",
    "    ('ctl_neiva'),\n",
    "    ('ctl_ibague'),\n",
    "    ('ctl_cienaga'),\n",
    "    ('ctl_la_dorada'),\n",
    "    ('ctl_puerto_berrio'),\n",
    "    ],\n",
    "    columns=[\"CTL\"],).set_index(\"CTL\")\n",
    "\n",
    "PCTL = pd.DataFrame([\n",
    "    ('ctl_soeldad'),\n",
    "    ('ctl_santa_marta'),\n",
    "    ('ctl_cartagena'),\n",
    "    ],\n",
    "    columns=[\"PCTL\"],).set_index(\"PCTL\")\n",
    "\n",
    "Port = pd.DataFrame([\n",
    "    ('puerto_de_cartagena'),\n",
    "    ('puerto_de_barranquilla'),\n",
    "    ('puerto_de_santa_marta'),\n",
    "    ],\n",
    "    columns=[\"Port\"],).set_index(\"Port\")\n",
    "\n",
    "CAPk = pd.read_excel(\"model_data.xlsx\",sheet_name=\"CAPk\").set_index(\"CAPk\")\n",
    "CAPm = pd.read_excel(\"model_data.xlsx\",sheet_name=\"CAPm\").set_index(\"CAPm\")\n",
    "\n",
    "Fk = pd.read_excel(\"model_data.xlsx\",sheet_name=\"Fk\").set_index(\"Fk\")\n",
    "Fm = pd.read_excel(\"model_data.xlsx\",sheet_name=\"Fm\").set_index(\"Fm\")\n",
    "\n",
    "Wij=pd.read_excel(\"model_data.xlsx\",sheet_name=\"Wij\").set_index(\"Wij\")\n",
    "\n",
    "costs=pd.read_excel(\"model_data.xlsx\",sheet_name=\"cost\")\n",
    "costs.set_index(['code_inicio', 'code_fin'], inplace=True)\n",
    "costs\n",
    "\n",
    "valor = costs.loc[('puerto_de_cartagena', 'mexico'), 'transport_cost']\n",
    "valor\n",
    "#Cijp\n",
    "#Cijkp\n",
    "#Cijmp\n",
    "#Cijkmp\n",
    "\n",
    "#Eijp\n",
    "#Eijkp\n",
    "#Eijmp\n",
    "#Eijkmp\n",
    "#Wij\n"
   ]
  },
  {
   "cell_type": "code",
   "execution_count": null,
   "metadata": {},
   "outputs": [],
   "source": []
  },
  {
   "cell_type": "code",
   "execution_count": null,
   "metadata": {},
   "outputs": [],
   "source": []
  },
  {
   "cell_type": "code",
   "execution_count": null,
   "metadata": {},
   "outputs": [],
   "source": [
    "    param CAPk{k in CTL};#Capacidad de la terminal de consolidación k ∈ K\n",
    "    param CAPm{m in PCTL};#Capacidad de la terminal de consolidación m ∈ M\n",
    "\n",
    "    #param T_T{m in PCTL};#Costo de transporte unitario del origen i ∈ I al destino j ∈ J utilizando la alternativa de envío directo\n",
    "    param Cijp{i in Origin, j in Destination, p in PCTL};##Costo de transporte unitario del origen i ∈ I al destino j ∈ J utilizando la alternativa de envío directo carretero al puerto p\n",
    "    param Cijkp{i in Origin, j in Destination, k in CTL, p in Port};##Costo de transporte unitario del origen i ∈ I al destino j ∈ J utilizando la alternativade envío a través de la terminal k ∈ K al puerto p\n",
    "    param Cijmp{i in Origin, j in Destination, m in PCTL, p in Port};##Costo de transporte unitario del origen i ∈ I al destino j ∈ J utilizando la alternativade envío a través de la terminal m ∈ M al puerto p    \n",
    "    param Cijkmp{i in Origin, j in Destination,  k in CTL, m in PCTL, p in Port};#Costo de transporte unitario del origen i ∈ I al destino j ∈ J utilizando la alternativa de envío a través del par de terminales k ∈ K y m ∈ M al puerto p\n",
    "\n",
    "    param Eijp{i in Origin, j in Destination, p in PCTL};##Costo de externalidad unitario del origen i ∈ I al destino j ∈ J utilizando la alternativa de envío directo carretero al puerto p\n",
    "    param Eijkp{i in Origin, j in Destination, k in CTL, p in Port};##Costo de externalidad unitario del origen i ∈ I al destino j ∈ J utilizando la alternativade envío a través de la terminal k ∈ K al puerto p\n",
    "    param Eijmp{i in Origin, j in Destination, m in PCTL, p in Port};##Costo de externalidad unitario del origen i ∈ I al destino j ∈ J utilizando la alternativade envío a través de la terminal m ∈ M al puerto p    \n",
    "    param Eijkmp{i in Origin, j in Destination,  k in CTL, m in PCTL, p in Port};#Costo de externalidad unitario del origen i ∈ I al destino j ∈ J utilizando la alternativa de envío a través del par de terminales k ∈ K y m ∈ M al puerto p\n",
    "    \n",
    "    param Wij{i in Origin, j in Destination};#Demanda de carga a enviar del nodo de origen i ∈ I al destino j ∈ J\n"
   ]
  }
 ],
 "metadata": {
  "kernelspec": {
   "display_name": "multimodal_logistics_network_colombia",
   "language": "python",
   "name": "python3"
  },
  "language_info": {
   "codemirror_mode": {
    "name": "ipython",
    "version": 3
   },
   "file_extension": ".py",
   "mimetype": "text/x-python",
   "name": "python",
   "nbconvert_exporter": "python",
   "pygments_lexer": "ipython3",
   "version": "3.7.16"
  },
  "orig_nbformat": 4
 },
 "nbformat": 4,
 "nbformat_minor": 2
}
